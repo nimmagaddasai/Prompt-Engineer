{
 "cells": [
  {
   "cell_type": "code",
   "execution_count": 1,
   "id": "b5b18092",
   "metadata": {},
   "outputs": [],
   "source": [
    "import random\n",
    "import pandas as pd"
   ]
  },
  {
   "cell_type": "code",
   "execution_count": 2,
   "id": "a762cac3",
   "metadata": {},
   "outputs": [],
   "source": [
    "d1 = []\n",
    "d2 = []\n",
    "d3 = []\n",
    "d4 = []\n",
    "for i in range (50000):\n",
    "    x = random.random()\n",
    "    d1.append(x)\n",
    "    y = random.random()\n",
    "    d2.append(y)\n",
    "    z = random.random()\n",
    "    d3.append(z)\n",
    "    d4.append(2*x+3*y+z)"
   ]
  },
  {
   "cell_type": "code",
   "execution_count": 3,
   "id": "4500c028",
   "metadata": {},
   "outputs": [],
   "source": [
    "df = pd.DataFrame({'x1':d1,'x2':d2,'x3':d3,'x4':d4},index=range(0,50000))"
   ]
  },
  {
   "cell_type": "code",
   "execution_count": 4,
   "id": "eeddfdc8",
   "metadata": {},
   "outputs": [
    {
     "data": {
      "text/html": [
       "<div>\n",
       "<style scoped>\n",
       "    .dataframe tbody tr th:only-of-type {\n",
       "        vertical-align: middle;\n",
       "    }\n",
       "\n",
       "    .dataframe tbody tr th {\n",
       "        vertical-align: top;\n",
       "    }\n",
       "\n",
       "    .dataframe thead th {\n",
       "        text-align: right;\n",
       "    }\n",
       "</style>\n",
       "<table border=\"1\" class=\"dataframe\">\n",
       "  <thead>\n",
       "    <tr style=\"text-align: right;\">\n",
       "      <th></th>\n",
       "      <th>x1</th>\n",
       "      <th>x2</th>\n",
       "      <th>x3</th>\n",
       "      <th>x4</th>\n",
       "    </tr>\n",
       "  </thead>\n",
       "  <tbody>\n",
       "    <tr>\n",
       "      <th>0</th>\n",
       "      <td>0.104723</td>\n",
       "      <td>0.359917</td>\n",
       "      <td>0.080474</td>\n",
       "      <td>1.369670</td>\n",
       "    </tr>\n",
       "    <tr>\n",
       "      <th>1</th>\n",
       "      <td>0.116149</td>\n",
       "      <td>0.215412</td>\n",
       "      <td>0.493376</td>\n",
       "      <td>1.371910</td>\n",
       "    </tr>\n",
       "    <tr>\n",
       "      <th>2</th>\n",
       "      <td>0.283950</td>\n",
       "      <td>0.428930</td>\n",
       "      <td>0.864533</td>\n",
       "      <td>2.719222</td>\n",
       "    </tr>\n",
       "    <tr>\n",
       "      <th>3</th>\n",
       "      <td>0.252364</td>\n",
       "      <td>0.993565</td>\n",
       "      <td>0.601943</td>\n",
       "      <td>4.087367</td>\n",
       "    </tr>\n",
       "    <tr>\n",
       "      <th>4</th>\n",
       "      <td>0.566795</td>\n",
       "      <td>0.512863</td>\n",
       "      <td>0.735683</td>\n",
       "      <td>3.407864</td>\n",
       "    </tr>\n",
       "    <tr>\n",
       "      <th>...</th>\n",
       "      <td>...</td>\n",
       "      <td>...</td>\n",
       "      <td>...</td>\n",
       "      <td>...</td>\n",
       "    </tr>\n",
       "    <tr>\n",
       "      <th>49995</th>\n",
       "      <td>0.972629</td>\n",
       "      <td>0.386071</td>\n",
       "      <td>0.631209</td>\n",
       "      <td>3.734680</td>\n",
       "    </tr>\n",
       "    <tr>\n",
       "      <th>49996</th>\n",
       "      <td>0.492490</td>\n",
       "      <td>0.420398</td>\n",
       "      <td>0.052021</td>\n",
       "      <td>2.298196</td>\n",
       "    </tr>\n",
       "    <tr>\n",
       "      <th>49997</th>\n",
       "      <td>0.006172</td>\n",
       "      <td>0.034644</td>\n",
       "      <td>0.498354</td>\n",
       "      <td>0.614629</td>\n",
       "    </tr>\n",
       "    <tr>\n",
       "      <th>49998</th>\n",
       "      <td>0.663066</td>\n",
       "      <td>0.733203</td>\n",
       "      <td>0.290020</td>\n",
       "      <td>3.815761</td>\n",
       "    </tr>\n",
       "    <tr>\n",
       "      <th>49999</th>\n",
       "      <td>0.470451</td>\n",
       "      <td>0.497368</td>\n",
       "      <td>0.832844</td>\n",
       "      <td>3.265852</td>\n",
       "    </tr>\n",
       "  </tbody>\n",
       "</table>\n",
       "<p>50000 rows × 4 columns</p>\n",
       "</div>"
      ],
      "text/plain": [
       "             x1        x2        x3        x4\n",
       "0      0.104723  0.359917  0.080474  1.369670\n",
       "1      0.116149  0.215412  0.493376  1.371910\n",
       "2      0.283950  0.428930  0.864533  2.719222\n",
       "3      0.252364  0.993565  0.601943  4.087367\n",
       "4      0.566795  0.512863  0.735683  3.407864\n",
       "...         ...       ...       ...       ...\n",
       "49995  0.972629  0.386071  0.631209  3.734680\n",
       "49996  0.492490  0.420398  0.052021  2.298196\n",
       "49997  0.006172  0.034644  0.498354  0.614629\n",
       "49998  0.663066  0.733203  0.290020  3.815761\n",
       "49999  0.470451  0.497368  0.832844  3.265852\n",
       "\n",
       "[50000 rows x 4 columns]"
      ]
     },
     "execution_count": 4,
     "metadata": {},
     "output_type": "execute_result"
    }
   ],
   "source": [
    "df"
   ]
  },
  {
   "cell_type": "code",
   "execution_count": 5,
   "id": "8261c3e2",
   "metadata": {},
   "outputs": [],
   "source": [
    "x = df.iloc[:,0:3]\n",
    "y = df[['x4']]"
   ]
  },
  {
   "cell_type": "code",
   "execution_count": 6,
   "id": "3c37ae67",
   "metadata": {},
   "outputs": [
    {
     "data": {
      "text/html": [
       "<div>\n",
       "<style scoped>\n",
       "    .dataframe tbody tr th:only-of-type {\n",
       "        vertical-align: middle;\n",
       "    }\n",
       "\n",
       "    .dataframe tbody tr th {\n",
       "        vertical-align: top;\n",
       "    }\n",
       "\n",
       "    .dataframe thead th {\n",
       "        text-align: right;\n",
       "    }\n",
       "</style>\n",
       "<table border=\"1\" class=\"dataframe\">\n",
       "  <thead>\n",
       "    <tr style=\"text-align: right;\">\n",
       "      <th></th>\n",
       "      <th>x1</th>\n",
       "      <th>x2</th>\n",
       "      <th>x3</th>\n",
       "    </tr>\n",
       "  </thead>\n",
       "  <tbody>\n",
       "    <tr>\n",
       "      <th>0</th>\n",
       "      <td>0.104723</td>\n",
       "      <td>0.359917</td>\n",
       "      <td>0.080474</td>\n",
       "    </tr>\n",
       "    <tr>\n",
       "      <th>1</th>\n",
       "      <td>0.116149</td>\n",
       "      <td>0.215412</td>\n",
       "      <td>0.493376</td>\n",
       "    </tr>\n",
       "    <tr>\n",
       "      <th>2</th>\n",
       "      <td>0.283950</td>\n",
       "      <td>0.428930</td>\n",
       "      <td>0.864533</td>\n",
       "    </tr>\n",
       "    <tr>\n",
       "      <th>3</th>\n",
       "      <td>0.252364</td>\n",
       "      <td>0.993565</td>\n",
       "      <td>0.601943</td>\n",
       "    </tr>\n",
       "    <tr>\n",
       "      <th>4</th>\n",
       "      <td>0.566795</td>\n",
       "      <td>0.512863</td>\n",
       "      <td>0.735683</td>\n",
       "    </tr>\n",
       "    <tr>\n",
       "      <th>...</th>\n",
       "      <td>...</td>\n",
       "      <td>...</td>\n",
       "      <td>...</td>\n",
       "    </tr>\n",
       "    <tr>\n",
       "      <th>49995</th>\n",
       "      <td>0.972629</td>\n",
       "      <td>0.386071</td>\n",
       "      <td>0.631209</td>\n",
       "    </tr>\n",
       "    <tr>\n",
       "      <th>49996</th>\n",
       "      <td>0.492490</td>\n",
       "      <td>0.420398</td>\n",
       "      <td>0.052021</td>\n",
       "    </tr>\n",
       "    <tr>\n",
       "      <th>49997</th>\n",
       "      <td>0.006172</td>\n",
       "      <td>0.034644</td>\n",
       "      <td>0.498354</td>\n",
       "    </tr>\n",
       "    <tr>\n",
       "      <th>49998</th>\n",
       "      <td>0.663066</td>\n",
       "      <td>0.733203</td>\n",
       "      <td>0.290020</td>\n",
       "    </tr>\n",
       "    <tr>\n",
       "      <th>49999</th>\n",
       "      <td>0.470451</td>\n",
       "      <td>0.497368</td>\n",
       "      <td>0.832844</td>\n",
       "    </tr>\n",
       "  </tbody>\n",
       "</table>\n",
       "<p>50000 rows × 3 columns</p>\n",
       "</div>"
      ],
      "text/plain": [
       "             x1        x2        x3\n",
       "0      0.104723  0.359917  0.080474\n",
       "1      0.116149  0.215412  0.493376\n",
       "2      0.283950  0.428930  0.864533\n",
       "3      0.252364  0.993565  0.601943\n",
       "4      0.566795  0.512863  0.735683\n",
       "...         ...       ...       ...\n",
       "49995  0.972629  0.386071  0.631209\n",
       "49996  0.492490  0.420398  0.052021\n",
       "49997  0.006172  0.034644  0.498354\n",
       "49998  0.663066  0.733203  0.290020\n",
       "49999  0.470451  0.497368  0.832844\n",
       "\n",
       "[50000 rows x 3 columns]"
      ]
     },
     "execution_count": 6,
     "metadata": {},
     "output_type": "execute_result"
    }
   ],
   "source": [
    "x"
   ]
  },
  {
   "cell_type": "code",
   "execution_count": 7,
   "id": "99513344",
   "metadata": {},
   "outputs": [
    {
     "data": {
      "text/html": [
       "<div>\n",
       "<style scoped>\n",
       "    .dataframe tbody tr th:only-of-type {\n",
       "        vertical-align: middle;\n",
       "    }\n",
       "\n",
       "    .dataframe tbody tr th {\n",
       "        vertical-align: top;\n",
       "    }\n",
       "\n",
       "    .dataframe thead th {\n",
       "        text-align: right;\n",
       "    }\n",
       "</style>\n",
       "<table border=\"1\" class=\"dataframe\">\n",
       "  <thead>\n",
       "    <tr style=\"text-align: right;\">\n",
       "      <th></th>\n",
       "      <th>x4</th>\n",
       "    </tr>\n",
       "  </thead>\n",
       "  <tbody>\n",
       "    <tr>\n",
       "      <th>0</th>\n",
       "      <td>1.369670</td>\n",
       "    </tr>\n",
       "    <tr>\n",
       "      <th>1</th>\n",
       "      <td>1.371910</td>\n",
       "    </tr>\n",
       "    <tr>\n",
       "      <th>2</th>\n",
       "      <td>2.719222</td>\n",
       "    </tr>\n",
       "    <tr>\n",
       "      <th>3</th>\n",
       "      <td>4.087367</td>\n",
       "    </tr>\n",
       "    <tr>\n",
       "      <th>4</th>\n",
       "      <td>3.407864</td>\n",
       "    </tr>\n",
       "    <tr>\n",
       "      <th>...</th>\n",
       "      <td>...</td>\n",
       "    </tr>\n",
       "    <tr>\n",
       "      <th>49995</th>\n",
       "      <td>3.734680</td>\n",
       "    </tr>\n",
       "    <tr>\n",
       "      <th>49996</th>\n",
       "      <td>2.298196</td>\n",
       "    </tr>\n",
       "    <tr>\n",
       "      <th>49997</th>\n",
       "      <td>0.614629</td>\n",
       "    </tr>\n",
       "    <tr>\n",
       "      <th>49998</th>\n",
       "      <td>3.815761</td>\n",
       "    </tr>\n",
       "    <tr>\n",
       "      <th>49999</th>\n",
       "      <td>3.265852</td>\n",
       "    </tr>\n",
       "  </tbody>\n",
       "</table>\n",
       "<p>50000 rows × 1 columns</p>\n",
       "</div>"
      ],
      "text/plain": [
       "             x4\n",
       "0      1.369670\n",
       "1      1.371910\n",
       "2      2.719222\n",
       "3      4.087367\n",
       "4      3.407864\n",
       "...         ...\n",
       "49995  3.734680\n",
       "49996  2.298196\n",
       "49997  0.614629\n",
       "49998  3.815761\n",
       "49999  3.265852\n",
       "\n",
       "[50000 rows x 1 columns]"
      ]
     },
     "execution_count": 7,
     "metadata": {},
     "output_type": "execute_result"
    }
   ],
   "source": [
    "y"
   ]
  },
  {
   "cell_type": "code",
   "execution_count": 8,
   "id": "ff74b5c0",
   "metadata": {},
   "outputs": [
    {
     "name": "stdout",
     "output_type": "stream",
     "text": [
      "WARNING:tensorflow:From C:\\Users\\91798\\anaconda3\\Lib\\site-packages\\keras\\src\\losses.py:2976: The name tf.losses.sparse_softmax_cross_entropy is deprecated. Please use tf.compat.v1.losses.sparse_softmax_cross_entropy instead.\n",
      "\n"
     ]
    }
   ],
   "source": [
    "import tensorflow as tf"
   ]
  },
  {
   "cell_type": "code",
   "execution_count": 9,
   "id": "a6c13334",
   "metadata": {},
   "outputs": [],
   "source": [
    "from sklearn.model_selection import train_test_split\n",
    "x_train, x_test, y_train, y_test = train_test_split(x,y,test_size = 0.3)"
   ]
  },
  {
   "cell_type": "code",
   "execution_count": 10,
   "id": "8da7dc22",
   "metadata": {},
   "outputs": [
    {
     "name": "stdout",
     "output_type": "stream",
     "text": [
      "WARNING:tensorflow:From C:\\Users\\91798\\anaconda3\\Lib\\site-packages\\keras\\src\\backend.py:873: The name tf.get_default_graph is deprecated. Please use tf.compat.v1.get_default_graph instead.\n",
      "\n",
      "WARNING:tensorflow:From C:\\Users\\91798\\anaconda3\\Lib\\site-packages\\keras\\src\\optimizers\\__init__.py:309: The name tf.train.Optimizer is deprecated. Please use tf.compat.v1.train.Optimizer instead.\n",
      "\n"
     ]
    }
   ],
   "source": [
    "model = tf.keras.models.Sequential([tf.keras.layers.Dense(9,input_dim = 3,activation = 'relu'),\n",
    "                                   tf.keras.layers.Dense(6, activation='relu'),\n",
    "                                tf.keras.layers.Dense(1, activation='linear')])\n",
    "model.compile(optimizer='adam',\n",
    "              loss='mse',\n",
    "              metrics=['accuracy'])"
   ]
  },
  {
   "cell_type": "code",
   "execution_count": 11,
   "id": "8dae9fc2",
   "metadata": {},
   "outputs": [
    {
     "name": "stdout",
     "output_type": "stream",
     "text": [
      "Epoch 1/20\n",
      "WARNING:tensorflow:From C:\\Users\\91798\\anaconda3\\Lib\\site-packages\\keras\\src\\utils\\tf_utils.py:492: The name tf.ragged.RaggedTensorValue is deprecated. Please use tf.compat.v1.ragged.RaggedTensorValue instead.\n",
      "\n",
      "WARNING:tensorflow:From C:\\Users\\91798\\anaconda3\\Lib\\site-packages\\keras\\src\\engine\\base_layer_utils.py:384: The name tf.executing_eagerly_outside_functions is deprecated. Please use tf.compat.v1.executing_eagerly_outside_functions instead.\n",
      "\n",
      "1094/1094 [==============================] - 5s 3ms/step - loss: 1.1630 - accuracy: 0.0000e+00\n",
      "Epoch 2/20\n",
      "1094/1094 [==============================] - 4s 3ms/step - loss: 0.0045 - accuracy: 0.0000e+00\n",
      "Epoch 3/20\n",
      "1094/1094 [==============================] - 4s 3ms/step - loss: 9.4597e-04 - accuracy: 0.0000e+00\n",
      "Epoch 4/20\n",
      "1094/1094 [==============================] - 4s 3ms/step - loss: 4.3506e-04 - accuracy: 0.0000e+00\n",
      "Epoch 5/20\n",
      "1094/1094 [==============================] - 4s 4ms/step - loss: 1.9404e-04 - accuracy: 0.0000e+00\n",
      "Epoch 6/20\n",
      "1094/1094 [==============================] - 3s 3ms/step - loss: 8.8542e-05 - accuracy: 0.0000e+00\n",
      "Epoch 7/20\n",
      "1094/1094 [==============================] - 4s 3ms/step - loss: 4.3321e-05 - accuracy: 0.0000e+00\n",
      "Epoch 8/20\n",
      "1094/1094 [==============================] - 3s 3ms/step - loss: 2.1410e-05 - accuracy: 0.0000e+00\n",
      "Epoch 9/20\n",
      "1094/1094 [==============================] - 3s 3ms/step - loss: 1.0594e-05 - accuracy: 0.0000e+00\n",
      "Epoch 10/20\n",
      "1094/1094 [==============================] - 3s 3ms/step - loss: 5.1508e-06 - accuracy: 0.0000e+00\n",
      "Epoch 11/20\n",
      "1094/1094 [==============================] - 3s 3ms/step - loss: 2.6193e-06 - accuracy: 0.0000e+00\n",
      "Epoch 12/20\n",
      "1094/1094 [==============================] - 3s 3ms/step - loss: 1.4938e-06 - accuracy: 0.0000e+00\n",
      "Epoch 13/20\n",
      "1094/1094 [==============================] - 3s 3ms/step - loss: 1.0819e-06 - accuracy: 0.0000e+00\n",
      "Epoch 14/20\n",
      "1094/1094 [==============================] - 3s 3ms/step - loss: 1.1439e-06 - accuracy: 0.0000e+00\n",
      "Epoch 15/20\n",
      "1094/1094 [==============================] - 3s 3ms/step - loss: 1.0517e-06 - accuracy: 0.0000e+00\n",
      "Epoch 16/20\n",
      "1094/1094 [==============================] - 3s 3ms/step - loss: 7.6269e-07 - accuracy: 0.0000e+00\n",
      "Epoch 17/20\n",
      "1094/1094 [==============================] - 4s 3ms/step - loss: 7.5646e-07 - accuracy: 0.0000e+00\n",
      "Epoch 18/20\n",
      "1094/1094 [==============================] - 4s 3ms/step - loss: 8.2277e-07 - accuracy: 0.0000e+00\n",
      "Epoch 19/20\n",
      "1094/1094 [==============================] - 4s 3ms/step - loss: 6.2020e-07 - accuracy: 0.0000e+00\n",
      "Epoch 20/20\n",
      "1094/1094 [==============================] - 4s 4ms/step - loss: 8.2495e-07 - accuracy: 0.0000e+00\n"
     ]
    },
    {
     "data": {
      "text/plain": [
       "<keras.src.callbacks.History at 0x1c87181a590>"
      ]
     },
     "execution_count": 11,
     "metadata": {},
     "output_type": "execute_result"
    }
   ],
   "source": [
    "model.fit(x_train, y_train, epochs=20)"
   ]
  },
  {
   "cell_type": "code",
   "execution_count": 12,
   "id": "2260cf91",
   "metadata": {},
   "outputs": [
    {
     "name": "stdout",
     "output_type": "stream",
     "text": [
      "469/469 [==============================] - 2s 3ms/step\n"
     ]
    }
   ],
   "source": [
    "y_pred=model.predict(x_test)"
   ]
  },
  {
   "cell_type": "code",
   "execution_count": 13,
   "id": "cbc16f50",
   "metadata": {},
   "outputs": [],
   "source": [
    "from sklearn.metrics import r2_score"
   ]
  },
  {
   "cell_type": "code",
   "execution_count": 14,
   "id": "ecf79957",
   "metadata": {},
   "outputs": [
    {
     "data": {
      "text/plain": [
       "0.9999999274568072"
      ]
     },
     "execution_count": 14,
     "metadata": {},
     "output_type": "execute_result"
    }
   ],
   "source": [
    "r2_score(y_pred, y_test)"
   ]
  }
 ],
 "metadata": {
  "kernelspec": {
   "display_name": "Python 3 (ipykernel)",
   "language": "python",
   "name": "python3"
  },
  "language_info": {
   "codemirror_mode": {
    "name": "ipython",
    "version": 3
   },
   "file_extension": ".py",
   "mimetype": "text/x-python",
   "name": "python",
   "nbconvert_exporter": "python",
   "pygments_lexer": "ipython3",
   "version": "3.11.5"
  }
 },
 "nbformat": 4,
 "nbformat_minor": 5
}
