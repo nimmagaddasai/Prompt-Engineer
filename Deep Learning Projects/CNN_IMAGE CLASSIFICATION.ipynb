{
 "cells": [
  {
   "cell_type": "code",
   "execution_count": 1,
   "id": "dd96b2bf",
   "metadata": {},
   "outputs": [
    {
     "name": "stdout",
     "output_type": "stream",
     "text": [
      "WARNING:tensorflow:From C:\\Users\\91798\\anaconda3\\Lib\\site-packages\\keras\\src\\losses.py:2976: The name tf.losses.sparse_softmax_cross_entropy is deprecated. Please use tf.compat.v1.losses.sparse_softmax_cross_entropy instead.\n",
      "\n"
     ]
    }
   ],
   "source": [
    "from tensorflow.keras.models import Sequential\n",
    "from tensorflow.keras.layers import Dense\n",
    "from tensorflow.keras.layers import Dropout\n",
    "from tensorflow.keras.layers import Flatten\n",
    "from tensorflow.keras.constraints import MaxNorm\n",
    "from tensorflow.keras.optimizers import SGD\n",
    "from tensorflow.keras.layers import Conv2D\n",
    "from tensorflow.keras.layers import MaxPooling2D\n",
    "from tensorflow.keras.utils import to_categorical"
   ]
  },
  {
   "cell_type": "markdown",
   "id": "7a0333d9",
   "metadata": {},
   "source": [
    "# Image Data Agumentation"
   ]
  },
  {
   "cell_type": "code",
   "execution_count": 2,
   "id": "0e3b3401",
   "metadata": {},
   "outputs": [],
   "source": [
    "from tensorflow.keras.preprocessing.image import ImageDataGenerator\n",
    "train_datagen = ImageDataGenerator(rescale = 1./255,\n",
    "                                  shear_range = 0.2,\n",
    "                                  zoom_range = 0.2,\n",
    "                                  horizontal_flip = True)\n",
    "test_datagen = ImageDataGenerator(rescale = 1./255)"
   ]
  },
  {
   "cell_type": "markdown",
   "id": "02acc49e",
   "metadata": {},
   "source": [
    "# Loading our data and performing data agumentation"
   ]
  },
  {
   "cell_type": "code",
   "execution_count": 3,
   "id": "573d8bb7",
   "metadata": {},
   "outputs": [
    {
     "name": "stdout",
     "output_type": "stream",
     "text": [
      "Found 1015 images belonging to 4 classes.\n"
     ]
    }
   ],
   "source": [
    "training_set = train_datagen.flow_from_directory('C:/Users/91798/Desktop/Quality Thought/CNN/TRAIN',\n",
    "                                                target_size =(64, 64) ,\n",
    "                                                batch_size = 32,\n",
    "                                                class_mode = 'categorical')"
   ]
  },
  {
   "cell_type": "code",
   "execution_count": 4,
   "id": "2ef363bd",
   "metadata": {},
   "outputs": [
    {
     "name": "stdout",
     "output_type": "stream",
     "text": [
      "Found 1015 images belonging to 4 classes.\n"
     ]
    }
   ],
   "source": [
    "test_set = train_datagen.flow_from_directory('C:/Users/91798/Desktop/Quality Thought/CNN/TEST',\n",
    "                                                target_size =(64, 64) ,\n",
    "                                                batch_size = 32,\n",
    "                                                class_mode = 'categorical')"
   ]
  },
  {
   "cell_type": "code",
   "execution_count": 5,
   "id": "fa08f425",
   "metadata": {},
   "outputs": [
    {
     "name": "stdout",
     "output_type": "stream",
     "text": [
      "{'airplanes': 0, 'butterfly': 1, 'cellphone': 2, 'dolphin': 3}\n"
     ]
    }
   ],
   "source": [
    "print(training_set.class_indices)"
   ]
  },
  {
   "cell_type": "code",
   "execution_count": 6,
   "id": "10ac8525",
   "metadata": {},
   "outputs": [
    {
     "data": {
      "text/plain": [
       "Counter({0: 800, 1: 91, 3: 65, 2: 59})"
      ]
     },
     "execution_count": 6,
     "metadata": {},
     "output_type": "execute_result"
    }
   ],
   "source": [
    "from collections import Counter as c\n",
    "c(training_set .labels)"
   ]
  },
  {
   "cell_type": "markdown",
   "id": "70325ca9",
   "metadata": {},
   "source": [
    "# Model Building"
   ]
  },
  {
   "cell_type": "code",
   "execution_count": 7,
   "id": "03a3d1dc",
   "metadata": {},
   "outputs": [
    {
     "name": "stdout",
     "output_type": "stream",
     "text": [
      "WARNING:tensorflow:From C:\\Users\\91798\\anaconda3\\Lib\\site-packages\\keras\\src\\backend.py:873: The name tf.get_default_graph is deprecated. Please use tf.compat.v1.get_default_graph instead.\n",
      "\n",
      "WARNING:tensorflow:From C:\\Users\\91798\\anaconda3\\Lib\\site-packages\\keras\\src\\layers\\pooling\\max_pooling2d.py:161: The name tf.nn.max_pool is deprecated. Please use tf.nn.max_pool2d instead.\n",
      "\n"
     ]
    }
   ],
   "source": [
    "classifier = Sequential()\n",
    "classifier.add(Conv2D(32,(3,3), input_shape = (64,64,3),activation = 'relu'))\n",
    "classifier.add(MaxPooling2D(pool_size = (2,2)))\n",
    "classifier.add(Conv2D(32,(3,3),activation = 'relu'))\n",
    "classifier.add(MaxPooling2D(pool_size = (2,2)))\n",
    "classifier.add(Flatten())\n",
    "classifier.add(Dense(units = 128, activation = 'relu'))\n",
    "classifier.add(Dense(units=4,activation = 'sigmoid'))"
   ]
  },
  {
   "cell_type": "code",
   "execution_count": 8,
   "id": "d8a05ee6",
   "metadata": {},
   "outputs": [
    {
     "name": "stdout",
     "output_type": "stream",
     "text": [
      "Model: \"sequential\"\n",
      "_________________________________________________________________\n",
      " Layer (type)                Output Shape              Param #   \n",
      "=================================================================\n",
      " conv2d (Conv2D)             (None, 62, 62, 32)        896       \n",
      "                                                                 \n",
      " max_pooling2d (MaxPooling2  (None, 31, 31, 32)        0         \n",
      " D)                                                              \n",
      "                                                                 \n",
      " conv2d_1 (Conv2D)           (None, 29, 29, 32)        9248      \n",
      "                                                                 \n",
      " max_pooling2d_1 (MaxPoolin  (None, 14, 14, 32)        0         \n",
      " g2D)                                                            \n",
      "                                                                 \n",
      " flatten (Flatten)           (None, 6272)              0         \n",
      "                                                                 \n",
      " dense (Dense)               (None, 128)               802944    \n",
      "                                                                 \n",
      " dense_1 (Dense)             (None, 4)                 516       \n",
      "                                                                 \n",
      "=================================================================\n",
      "Total params: 813604 (3.10 MB)\n",
      "Trainable params: 813604 (3.10 MB)\n",
      "Non-trainable params: 0 (0.00 Byte)\n",
      "_________________________________________________________________\n"
     ]
    }
   ],
   "source": [
    "classifier.summary()"
   ]
  },
  {
   "cell_type": "markdown",
   "id": "252a0ff3",
   "metadata": {},
   "source": [
    "# Compiling the model"
   ]
  },
  {
   "cell_type": "code",
   "execution_count": 9,
   "id": "aea2b400",
   "metadata": {},
   "outputs": [
    {
     "name": "stdout",
     "output_type": "stream",
     "text": [
      "WARNING:tensorflow:From C:\\Users\\91798\\anaconda3\\Lib\\site-packages\\keras\\src\\optimizers\\__init__.py:309: The name tf.train.Optimizer is deprecated. Please use tf.compat.v1.train.Optimizer instead.\n",
      "\n"
     ]
    }
   ],
   "source": [
    "classifier.compile(optimizer = 'adam', loss = 'categorical_crossentropy',metrics = ['accuracy'])"
   ]
  },
  {
   "cell_type": "markdown",
   "id": "e4877cc9",
   "metadata": {},
   "source": [
    "# Fit the model"
   ]
  },
  {
   "cell_type": "code",
   "execution_count": 10,
   "id": "7dd49135",
   "metadata": {
    "scrolled": false
   },
   "outputs": [
    {
     "name": "stderr",
     "output_type": "stream",
     "text": [
      "C:\\Users\\91798\\AppData\\Local\\Temp\\ipykernel_15880\\1054149444.py:1: UserWarning: `Model.fit_generator` is deprecated and will be removed in a future version. Please use `Model.fit`, which supports generators.\n",
      "  r = classifier.fit_generator(training_set,\n"
     ]
    },
    {
     "name": "stdout",
     "output_type": "stream",
     "text": [
      "Epoch 1/50\n",
      "WARNING:tensorflow:From C:\\Users\\91798\\anaconda3\\Lib\\site-packages\\keras\\src\\utils\\tf_utils.py:492: The name tf.ragged.RaggedTensorValue is deprecated. Please use tf.compat.v1.ragged.RaggedTensorValue instead.\n",
      "\n",
      "WARNING:tensorflow:From C:\\Users\\91798\\anaconda3\\Lib\\site-packages\\keras\\src\\engine\\base_layer_utils.py:384: The name tf.executing_eagerly_outside_functions is deprecated. Please use tf.compat.v1.executing_eagerly_outside_functions instead.\n",
      "\n",
      "10/10 [==============================] - ETA: 0s - loss: 0.8713 - accuracy: 0.7781WARNING:tensorflow:Your input ran out of data; interrupting training. Make sure that your dataset or generator can generate at least `steps_per_epoch * epochs` batches (in this case, 80 batches). You may need to use the repeat() function when building your dataset.\n",
      "10/10 [==============================] - 26s 2s/step - loss: 0.8713 - accuracy: 0.7781 - val_loss: 0.6898 - val_accuracy: 0.7882\n",
      "Epoch 2/50\n",
      "10/10 [==============================] - 4s 384ms/step - loss: 0.7132 - accuracy: 0.8062\n",
      "Epoch 3/50\n",
      "10/10 [==============================] - 3s 307ms/step - loss: 0.5306 - accuracy: 0.8250\n",
      "Epoch 4/50\n",
      "10/10 [==============================] - 3s 275ms/step - loss: 0.3534 - accuracy: 0.8625\n",
      "Epoch 5/50\n",
      "10/10 [==============================] - 3s 253ms/step - loss: 0.4013 - accuracy: 0.8687\n",
      "Epoch 6/50\n",
      "10/10 [==============================] - 2s 205ms/step - loss: 0.2736 - accuracy: 0.9228\n",
      "Epoch 7/50\n",
      "10/10 [==============================] - 2s 204ms/step - loss: 0.1972 - accuracy: 0.9344\n",
      "Epoch 8/50\n",
      "10/10 [==============================] - 2s 210ms/step - loss: 0.2950 - accuracy: 0.8844\n",
      "Epoch 9/50\n",
      "10/10 [==============================] - 2s 196ms/step - loss: 0.2112 - accuracy: 0.9344\n",
      "Epoch 10/50\n",
      "10/10 [==============================] - 2s 187ms/step - loss: 0.2313 - accuracy: 0.9196\n",
      "Epoch 11/50\n",
      "10/10 [==============================] - 2s 190ms/step - loss: 0.2116 - accuracy: 0.9125\n",
      "Epoch 12/50\n",
      "10/10 [==============================] - 2s 191ms/step - loss: 0.1915 - accuracy: 0.9281\n",
      "Epoch 13/50\n",
      "10/10 [==============================] - 2s 193ms/step - loss: 0.1513 - accuracy: 0.9406\n",
      "Epoch 14/50\n",
      "10/10 [==============================] - 2s 185ms/step - loss: 0.1727 - accuracy: 0.9500\n",
      "Epoch 15/50\n",
      "10/10 [==============================] - 2s 176ms/step - loss: 0.2200 - accuracy: 0.9164\n",
      "Epoch 16/50\n",
      "10/10 [==============================] - 2s 190ms/step - loss: 0.1260 - accuracy: 0.9406\n",
      "Epoch 17/50\n",
      "10/10 [==============================] - 2s 182ms/step - loss: 0.1188 - accuracy: 0.9563\n",
      "Epoch 18/50\n",
      "10/10 [==============================] - 2s 184ms/step - loss: 0.1585 - accuracy: 0.9438\n",
      "Epoch 19/50\n",
      "10/10 [==============================] - 2s 189ms/step - loss: 0.1519 - accuracy: 0.9438\n",
      "Epoch 20/50\n",
      "10/10 [==============================] - 2s 186ms/step - loss: 0.1108 - accuracy: 0.9625\n",
      "Epoch 21/50\n",
      "10/10 [==============================] - 2s 186ms/step - loss: 0.1022 - accuracy: 0.9688\n",
      "Epoch 22/50\n",
      "10/10 [==============================] - 2s 182ms/step - loss: 0.1311 - accuracy: 0.9500\n",
      "Epoch 23/50\n",
      "10/10 [==============================] - 2s 184ms/step - loss: 0.1310 - accuracy: 0.9406\n",
      "Epoch 24/50\n",
      "10/10 [==============================] - 2s 178ms/step - loss: 0.0989 - accuracy: 0.9614\n",
      "Epoch 25/50\n",
      "10/10 [==============================] - 2s 179ms/step - loss: 0.1362 - accuracy: 0.9518\n",
      "Epoch 26/50\n",
      "10/10 [==============================] - 2s 198ms/step - loss: 0.1297 - accuracy: 0.9469\n",
      "Epoch 27/50\n",
      "10/10 [==============================] - 2s 184ms/step - loss: 0.1233 - accuracy: 0.9500\n",
      "Epoch 28/50\n",
      "10/10 [==============================] - 2s 188ms/step - loss: 0.1045 - accuracy: 0.9594\n",
      "Epoch 29/50\n",
      "10/10 [==============================] - 2s 175ms/step - loss: 0.0869 - accuracy: 0.9711\n",
      "Epoch 30/50\n",
      "10/10 [==============================] - 2s 179ms/step - loss: 0.0450 - accuracy: 0.9775\n",
      "Epoch 31/50\n",
      "10/10 [==============================] - 2s 189ms/step - loss: 0.0994 - accuracy: 0.9563\n",
      "Epoch 32/50\n",
      "10/10 [==============================] - 2s 180ms/step - loss: 0.0788 - accuracy: 0.9688\n",
      "Epoch 33/50\n",
      "10/10 [==============================] - 2s 183ms/step - loss: 0.1055 - accuracy: 0.9594\n",
      "Epoch 34/50\n",
      "10/10 [==============================] - 2s 184ms/step - loss: 0.1231 - accuracy: 0.9531\n",
      "Epoch 35/50\n",
      "10/10 [==============================] - 2s 182ms/step - loss: 0.0729 - accuracy: 0.9750\n",
      "Epoch 36/50\n",
      "10/10 [==============================] - 2s 186ms/step - loss: 0.0722 - accuracy: 0.9750\n",
      "Epoch 37/50\n",
      "10/10 [==============================] - 2s 183ms/step - loss: 0.0750 - accuracy: 0.9781\n",
      "Epoch 38/50\n",
      "10/10 [==============================] - 2s 182ms/step - loss: 0.0462 - accuracy: 0.9875\n",
      "Epoch 39/50\n",
      "10/10 [==============================] - 2s 207ms/step - loss: 0.0626 - accuracy: 0.9781\n",
      "Epoch 40/50\n",
      "10/10 [==============================] - 2s 177ms/step - loss: 0.0660 - accuracy: 0.9807\n",
      "Epoch 41/50\n",
      "10/10 [==============================] - 2s 180ms/step - loss: 0.0596 - accuracy: 0.9839\n",
      "Epoch 42/50\n",
      "10/10 [==============================] - 2s 192ms/step - loss: 0.0633 - accuracy: 0.9844\n",
      "Epoch 43/50\n",
      "10/10 [==============================] - 2s 193ms/step - loss: 0.0577 - accuracy: 0.9812\n",
      "Epoch 44/50\n",
      "10/10 [==============================] - 2s 183ms/step - loss: 0.1060 - accuracy: 0.9518\n",
      "Epoch 45/50\n",
      "10/10 [==============================] - 2s 189ms/step - loss: 0.0642 - accuracy: 0.9781\n",
      "Epoch 46/50\n",
      "10/10 [==============================] - 2s 192ms/step - loss: 0.0585 - accuracy: 0.9775\n",
      "Epoch 47/50\n",
      "10/10 [==============================] - 2s 186ms/step - loss: 0.0571 - accuracy: 0.9781\n",
      "Epoch 48/50\n",
      "10/10 [==============================] - 2s 181ms/step - loss: 0.0378 - accuracy: 0.9844\n",
      "Epoch 49/50\n",
      "10/10 [==============================] - 2s 192ms/step - loss: 0.0635 - accuracy: 0.9750\n",
      "Epoch 50/50\n",
      "10/10 [==============================] - 2s 195ms/step - loss: 0.0471 - accuracy: 0.9781\n"
     ]
    }
   ],
   "source": [
    "r = classifier.fit_generator(training_set,\n",
    "                         steps_per_epoch = 10,\n",
    "                         epochs = 50,\n",
    "                         validation_data = test_set,\n",
    "                         validation_steps = 80)"
   ]
  },
  {
   "cell_type": "code",
   "execution_count": 12,
   "id": "d3617e95",
   "metadata": {},
   "outputs": [
    {
     "name": "stdout",
     "output_type": "stream",
     "text": [
      "1/1 [==============================] - 0s 292ms/step\n"
     ]
    }
   ],
   "source": [
    "import numpy as np\n",
    "from tensorflow.keras.preprocessing import image\n",
    "test_image = \\\n",
    "    image.load_img('C:/Users/91798/Desktop/Quality Thought/CNN/TEST/butterfly/image_0001.jpg',target_size=(64, 64))\n",
    "test_image = image.img_to_array(test_image)\n",
    "test_image = np.expand_dims(test_image, axis=0)\n",
    "result = classifier.predict(test_image)"
   ]
  },
  {
   "cell_type": "code",
   "execution_count": 13,
   "id": "dd377de8",
   "metadata": {},
   "outputs": [
    {
     "name": "stdout",
     "output_type": "stream",
     "text": [
      "[[0. 1. 0. 0.]]\n"
     ]
    }
   ],
   "source": [
    "print(result)"
   ]
  },
  {
   "cell_type": "code",
   "execution_count": null,
   "id": "67aaeb71",
   "metadata": {},
   "outputs": [],
   "source": []
  }
 ],
 "metadata": {
  "kernelspec": {
   "display_name": "Python 3 (ipykernel)",
   "language": "python",
   "name": "python3"
  },
  "language_info": {
   "codemirror_mode": {
    "name": "ipython",
    "version": 3
   },
   "file_extension": ".py",
   "mimetype": "text/x-python",
   "name": "python",
   "nbconvert_exporter": "python",
   "pygments_lexer": "ipython3",
   "version": "3.11.5"
  }
 },
 "nbformat": 4,
 "nbformat_minor": 5
}
