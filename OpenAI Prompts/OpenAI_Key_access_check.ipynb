{
 "cells": [
  {
   "cell_type": "code",
   "execution_count": 1,
   "id": "ce7d348b-4f9f-45dd-bf9d-9324a6c9d766",
   "metadata": {},
   "outputs": [],
   "source": [
    "import os\n",
    "os.environ['OPENAI_API_KEY'] = ''"
   ]
  },
  {
   "cell_type": "code",
   "execution_count": 2,
   "id": "2bd9f41c-861d-41f0-a818-384949b64f58",
   "metadata": {},
   "outputs": [
    {
     "name": "stderr",
     "output_type": "stream",
     "text": [
      "C:\\Users\\91798\\anaconda3\\Lib\\site-packages\\langchain_core\\_api\\deprecation.py:117: LangChainDeprecationWarning: The class `langchain_community.llms.openai.OpenAI` was deprecated in langchain-community 0.0.10 and will be removed in 0.2.0. An updated version of the class exists in the langchain-openai package and should be used instead. To use it run `pip install -U langchain-openai` and import as `from langchain_openai import OpenAI`.\n",
      "  warn_deprecated(\n"
     ]
    }
   ],
   "source": [
    "from langchain.llms import OpenAI\n",
    "llm = OpenAI()"
   ]
  },
  {
   "cell_type": "code",
   "execution_count": 3,
   "id": "704c8540-161f-4320-b626-14f7adeecc41",
   "metadata": {},
   "outputs": [
    {
     "name": "stdout",
     "output_type": "stream",
     "text": [
      "\n",
      "\n",
      "1. Great Pyramid of Giza\n",
      "2. Hanging Gardens of Babylon\n",
      "3. Temple of Artemis at Ephesus\n",
      "4. Statue of Zeus at Olympia\n",
      "5. Mausoleum at Halicarnassus\n",
      "6. Colossus of Rhodes\n",
      "7. Lighthouse of Alexandria\n"
     ]
    }
   ],
   "source": [
    "response = llm.invoke(\"List the seven wonders of the world\")\n",
    "print(response)"
   ]
  },
  {
   "cell_type": "markdown",
   "id": "770e8ce9",
   "metadata": {},
   "source": [
    "# Basic Prompts"
   ]
  },
  {
   "cell_type": "code",
   "execution_count": 4,
   "id": "cbe48c1d-0675-4aca-ba7a-fae6795b451d",
   "metadata": {},
   "outputs": [
    {
     "name": "stdout",
     "output_type": "stream",
     "text": [
      "\n",
      "\n",
      "1. Indian Railways is the lifeline of the country, connecting people from all corners of the nation through its vast network of trains.\n",
      "2. The experience of traveling on Indian Railways is a unique one, with its bustling stations, diverse passengers and variety of trains.\n",
      "3. From the luxurious Rajdhani and Shatabdi Express to the humble local trains, Indian Railways offers a range of options to suit every budget and need.\n",
      "4. The train journeys in India are often filled with interesting conversations with co-passengers, delicious food from vendors and scenic views of the diverse landscapes.\n",
      "5. Despite its challenges, Indian Railways remains an integral part of the Indian culture and continues to be an affordable and convenient mode of transportation for millions of people every day.\n"
     ]
    }
   ],
   "source": [
    "response = llm.invoke(\"As an indian resident, describe Indian railways experience in 5 sentences\")\n",
    "print(response)"
   ]
  },
  {
   "cell_type": "code",
   "execution_count": 5,
   "id": "716380db",
   "metadata": {},
   "outputs": [
    {
     "name": "stdout",
     "output_type": "stream",
     "text": [
      "\n",
      "\n",
      "Supervised learning is a type of machine learning where the algorithm learns from labeled data. This means that the data used for training has predefined labels or outcomes. The goal of supervised learning is for the algorithm to learn the relationship between the input features and the corresponding labels, so that it can accurately predict labels for new, unseen data. The algorithm iteratively adjusts its parameters based on the difference between its predicted labels and the actual labels in the training data. Some common types of supervised learning algorithms include linear regression, decision trees, and support vector machines.\n"
     ]
    }
   ],
   "source": [
    "response = llm.invoke(\"As an machine learning enigeer, describe supervised learning in 5 sentences\")\n",
    "print(response)"
   ]
  },
  {
   "cell_type": "markdown",
   "id": "2bcce127",
   "metadata": {},
   "source": [
    "# Translation prompt"
   ]
  },
  {
   "cell_type": "code",
   "execution_count": 6,
   "id": "28c1c00b",
   "metadata": {},
   "outputs": [
    {
     "name": "stdout",
     "output_type": "stream",
     "text": [
      "\n",
      "நீங்கள் எப்படி இருக்கிறீர்கள்?\n"
     ]
    }
   ],
   "source": [
    "response = llm.invoke(\"As a english to Tamil Translator translate the below text to tamil, text: How are you?\")\n",
    "print(response)"
   ]
  },
  {
   "cell_type": "code",
   "execution_count": 7,
   "id": "7a42e8a0",
   "metadata": {},
   "outputs": [
    {
     "name": "stdout",
     "output_type": "stream",
     "text": [
      "\n",
      "\n",
      "డేటా సైన్స్, అతని మూలంతాన్ని అందులో ఉపయోగిస్తుంది, అల్గోరితమ్లు, మరియు వ్యవస్థలను వాడి, క్రింది కుంచికల మరియు అస్తుల డేటా నుంచి గుర్తులను మరియు జ్ఞ\n"
     ]
    }
   ],
   "source": [
    "response = llm.invoke(\" As a english to Telugu Translator translate the below text to telugu, text: Data science, at its core, is the interdisciplinary field that utilizes scientific methods, algorithms, and systems to extract insights and knowledge from structured and unstructured data. It encompasses various domains such as statistics, computer science, machine learning, and domain expertise, blending them to uncover patterns, trends, and correlations within data sets. Data scientists employ a range of techniques, including data mining, data visualization, and predictive modeling, to extract actionable insights and inform decision-making processes across industries. With the exponential growth of data generated by digital technologies and the internet, data science has become increasingly crucial for businesses, governments, and organizations to optimize operations, enhance customer experiences, and drive innovation. In essence, data science empowers us to harness the vast volumes of data available to unlock valuable insights and drive meaningful outcomes in virtually every aspect of modern society.\")\n",
    "print(response)"
   ]
  },
  {
   "cell_type": "markdown",
   "id": "c17ffbbd",
   "metadata": {},
   "source": [
    "# Sentiment Analysis Prompt"
   ]
  },
  {
   "cell_type": "code",
   "execution_count": 8,
   "id": "7e02bff5",
   "metadata": {},
   "outputs": [
    {
     "name": "stdout",
     "output_type": "stream",
     "text": [
      "\n",
      "\n",
      "Negative\n"
     ]
    }
   ],
   "source": [
    "response = llm.invoke(\"Give the sentiment analysis of below text as positive or negative or neutral, text:The film follows a routine Telugu storyline, offering nothing fresh or innovative. One of the film's glaring flaws is its songs and their placements, which are poorly executed, significantly contributing to its downfall. The music by Thaman, known for his high DJ sounds, disappoints once again.\")\n",
    "print(response)"
   ]
  },
  {
   "cell_type": "markdown",
   "id": "c3a8dd9f",
   "metadata": {},
   "source": [
    "# Named entities"
   ]
  },
  {
   "cell_type": "code",
   "execution_count": 9,
   "id": "0542d51d",
   "metadata": {},
   "outputs": [
    {
     "name": "stdout",
     "output_type": "stream",
     "text": [
      "\n",
      "1. Guntur Kaaram\n",
      "2. Mahesh Babu\n",
      "3. Trivikram Srinivas\n"
     ]
    }
   ],
   "source": [
    "response = llm.invoke('Give the named entities of below text, text:Despite its issues, Guntur Kaaram has some entertaining parts, mainly thanks to Mahesh Babu presence, accent, and memorable lines. The main problem is that the story needs to connect better with the audience, and director Trivikram Srinivas struggles to make it interesting.')\n",
    "print(response)"
   ]
  },
  {
   "cell_type": "markdown",
   "id": "e9cb518e",
   "metadata": {},
   "source": [
    "# Document Question and answer prompt"
   ]
  },
  {
   "cell_type": "code",
   "execution_count": 10,
   "id": "7703039e",
   "metadata": {},
   "outputs": [
    {
     "name": "stdout",
     "output_type": "stream",
     "text": [
      "\n",
      "\n",
      "The music director is Thaman.\n"
     ]
    }
   ],
   "source": [
    "response = llm.invoke(\"as on the below text who is the music director, text: The film follows a routine Telugu storyline, offering nothing fresh or innovative. One of the film's glaring flaws is its songs and their placements, which are poorly executed, significantly contributing to its downfall. The music by Thaman, known for his high DJ sounds, disappoints once again.\")\n",
    "print(response)"
   ]
  },
  {
   "cell_type": "markdown",
   "id": "4ecbbea4",
   "metadata": {},
   "source": [
    "# Summarize prompt"
   ]
  },
  {
   "cell_type": "code",
   "execution_count": 11,
   "id": "afad7ad4",
   "metadata": {},
   "outputs": [
    {
     "name": "stdout",
     "output_type": "stream",
     "text": [
      "\n",
      "\n",
      "Data science is an interdisciplinary field that uses scientific methods and techniques from various domains such as statistics, computer science, and machine learning to extract insights and inform decision-making processes from large amounts of data.\n"
     ]
    }
   ],
   "source": [
    "response = llm.invoke(\"As an Data science engineer summarize the below text in one sentences, text:Data science, at its core, is the interdisciplinary field that utilizes scientific methods, algorithms, and systems to extract insights and knowledge from structured and unstructured data. It encompasses various domains such as statistics, computer science, machine learning, and domain expertise, blending them to uncover patterns, trends, and correlations within data sets. Data scientists employ a range of techniques, including data mining, data visualization, and predictive modeling, to extract actionable insights and inform decision-making processes across industries. With the exponential growth of data generated by digital technologies and the internet, data science has become increasingly crucial for businesses, governments, and organizations to optimize operations, enhance customer experiences, and drive innovation. In essence, data science empowers us to harness the vast volumes of data available to unlock valuable insights and drive meaningful outcomes in virtually every aspect of modern society.\")\n",
    "print(response)"
   ]
  },
  {
   "cell_type": "markdown",
   "id": "948937f9",
   "metadata": {},
   "source": [
    "# Reasoning prompt"
   ]
  },
  {
   "cell_type": "code",
   "execution_count": 12,
   "id": "58056420",
   "metadata": {},
   "outputs": [
    {
     "name": "stdout",
     "output_type": "stream",
     "text": [
      "\n",
      "\n",
      "First, we need to find the total number of tickets that are multiples of 3 or 5. We can do this by listing out the multiples of 3 and 5 between 1 and 20:\n",
      "\n",
      "Multiples of 3: 3, 6, 9, 12, 15, 18\n",
      "Multiples of 5: 5, 10, 15, 20\n",
      "\n",
      "Notice that the number 15 appears in both lists. This is because it is a multiple of both 3 and 5. We only want to count it once, so we can remove one instance of it from the total count. This gives us a total of 8 tickets that are multiples of 3 or 5.\n",
      "\n",
      "Now, we need to find the total number of tickets in the bag, which is 20.\n",
      "\n",
      "Therefore, the probability of drawing a ticket that is a multiple of 3 or 5 is 8/20 or 2/5. This can also be written as 40%. \n"
     ]
    }
   ],
   "source": [
    "response = llm.invoke(\"As an maths teacher slove the below problem, Tickets numbered 1 to 20 are mixed up and then a ticket is drawn at random. What is the probability that the ticket drawn has a number which is a multiple of 3 or 5?\")\n",
    "print(response)"
   ]
  }
 ],
 "metadata": {
  "kernelspec": {
   "display_name": "Python 3 (ipykernel)",
   "language": "python",
   "name": "python3"
  },
  "language_info": {
   "codemirror_mode": {
    "name": "ipython",
    "version": 3
   },
   "file_extension": ".py",
   "mimetype": "text/x-python",
   "name": "python",
   "nbconvert_exporter": "python",
   "pygments_lexer": "ipython3",
   "version": "3.11.5"
  }
 },
 "nbformat": 4,
 "nbformat_minor": 5
}
