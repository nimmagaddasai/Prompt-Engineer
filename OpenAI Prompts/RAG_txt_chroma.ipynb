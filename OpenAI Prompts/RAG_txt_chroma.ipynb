{
 "cells": [
  {
   "cell_type": "code",
   "execution_count": 1,
   "id": "f4caa028-ad86-44be-852a-bfbfb100a907",
   "metadata": {},
   "outputs": [],
   "source": [
    "import os\n",
    "os.environ['OPENAI_API_KEY'] = ''"
   ]
  },
  {
   "cell_type": "code",
   "execution_count": 2,
   "id": "ab049051-c1c5-4fec-8ff1-895ba67bfd9d",
   "metadata": {},
   "outputs": [
    {
     "name": "stderr",
     "output_type": "stream",
     "text": [
      "Created a chunk of size 1483, which is longer than the specified 1000\n",
      "Created a chunk of size 1112, which is longer than the specified 1000\n",
      "Created a chunk of size 1069, which is longer than the specified 1000\n",
      "Created a chunk of size 1019, which is longer than the specified 1000\n",
      "Created a chunk of size 1278, which is longer than the specified 1000\n",
      "Created a chunk of size 1634, which is longer than the specified 1000\n",
      "Created a chunk of size 1275, which is longer than the specified 1000\n",
      "Created a chunk of size 1642, which is longer than the specified 1000\n",
      "Created a chunk of size 1885, which is longer than the specified 1000\n",
      "Created a chunk of size 1497, which is longer than the specified 1000\n",
      "Created a chunk of size 3089, which is longer than the specified 1000\n",
      "Created a chunk of size 1052, which is longer than the specified 1000\n",
      "Created a chunk of size 1603, which is longer than the specified 1000\n",
      "Created a chunk of size 2679, which is longer than the specified 1000\n",
      "Created a chunk of size 1633, which is longer than the specified 1000\n",
      "Created a chunk of size 2432, which is longer than the specified 1000\n",
      "Created a chunk of size 1080, which is longer than the specified 1000\n",
      "Created a chunk of size 1295, which is longer than the specified 1000\n",
      "Created a chunk of size 1154, which is longer than the specified 1000\n",
      "Created a chunk of size 1369, which is longer than the specified 1000\n",
      "Created a chunk of size 1133, which is longer than the specified 1000\n",
      "Created a chunk of size 1450, which is longer than the specified 1000\n",
      "Created a chunk of size 1707, which is longer than the specified 1000\n",
      "Created a chunk of size 1002, which is longer than the specified 1000\n",
      "Created a chunk of size 3452, which is longer than the specified 1000\n",
      "Created a chunk of size 1149, which is longer than the specified 1000\n",
      "Created a chunk of size 1190, which is longer than the specified 1000\n",
      "Created a chunk of size 1064, which is longer than the specified 1000\n",
      "Created a chunk of size 1251, which is longer than the specified 1000\n",
      "Created a chunk of size 1362, which is longer than the specified 1000\n",
      "Created a chunk of size 1348, which is longer than the specified 1000\n",
      "Created a chunk of size 1674, which is longer than the specified 1000\n",
      "Created a chunk of size 1013, which is longer than the specified 1000\n",
      "Created a chunk of size 1052, which is longer than the specified 1000\n",
      "C:\\Users\\91798\\anaconda3\\Lib\\site-packages\\langchain_core\\_api\\deprecation.py:117: LangChainDeprecationWarning: The class `langchain_community.embeddings.openai.OpenAIEmbeddings` was deprecated in langchain-community 0.1.0 and will be removed in 0.2.0. An updated version of the class exists in the langchain-openai package and should be used instead. To use it run `pip install -U langchain-openai` and import as `from langchain_openai import OpenAIEmbeddings`.\n",
      "  warn_deprecated(\n"
     ]
    }
   ],
   "source": [
    "from langchain.embeddings import OpenAIEmbeddings\n",
    "from langchain.text_splitter import CharacterTextSplitter\n",
    "from langchain.vectorstores import Chroma\n",
    "\n",
    "full_text = open(\"Bhagavgita.txt\", \"r\").read()\n",
    "text_splitter = CharacterTextSplitter(chunk_size=1000, chunk_overlap=100)\n",
    "texts = text_splitter.split_text(full_text)\n",
    "\n",
    "embeddings = OpenAIEmbeddings()\n",
    "db = Chroma.from_texts(texts, embeddings)\n",
    "retriever = db.as_retriever()"
   ]
  },
  {
   "cell_type": "code",
   "execution_count": 3,
   "id": "1b8a96c0-ff59-428e-9e5e-a40a1f5b0578",
   "metadata": {},
   "outputs": [
    {
     "name": "stderr",
     "output_type": "stream",
     "text": [
      "C:\\Users\\91798\\anaconda3\\Lib\\site-packages\\langchain_core\\_api\\deprecation.py:117: LangChainDeprecationWarning: The class `langchain_community.chat_models.openai.ChatOpenAI` was deprecated in langchain-community 0.0.10 and will be removed in 0.2.0. An updated version of the class exists in the langchain-openai package and should be used instead. To use it run `pip install -U langchain-openai` and import as `from langchain_openai import ChatOpenAI`.\n",
      "  warn_deprecated(\n"
     ]
    },
    {
     "name": "stdout",
     "output_type": "stream",
     "text": [
      "Number of unique documents: 8\n"
     ]
    }
   ],
   "source": [
    "from langchain.chat_models import ChatOpenAI\n",
    "from langchain.retrievers.multi_query import MultiQueryRetriever\n",
    "\n",
    "question = \"What krishna told arjuna in chapter 3?\"\n",
    "llm = ChatOpenAI(temperature=0)\n",
    "retriever_from_llm = MultiQueryRetriever.from_llm(\n",
    "    retriever=retriever, llm=llm\n",
    ")\n",
    "\n",
    "unique_docs = retriever_from_llm.get_relevant_documents(query=question)\n",
    "print(\"Number of unique documents:\", len(unique_docs))"
   ]
  },
  {
   "cell_type": "code",
   "execution_count": 4,
   "id": "26a160c3-6d72-4324-8d26-d62688fb6dcb",
   "metadata": {},
   "outputs": [
    {
     "data": {
      "text/plain": [
       "[Document(page_content='HERE ENDETH CHAPTER IV. OF THE BHAGAVAD-GITA,\\nEntitled \"Jnana Yog,\"\\nOr \"The Book of the Religion of Knowledge,\"\\n\\n\\nCHAPTER V\\n\\nArjuna.\\nYet, Krishna! at the one time thou dost laud\\nSurcease of works, and, at another time,\\nService through work. Of these twain plainly tell\\nWhich is the better way?\\n\\nKrishna.\\nTo cease from works\\nIs well, and to do works in holiness\\nIs well; and both conduct to bliss supreme;\\nBut of these twain the better way is his\\nWho working piously refraineth not.'),\n",
       " Document(page_content='HERE ENDETH CHAPTER XII. OF THE BHAGAVAD-GITA,\\nEntitled \"Bhaktiyog,\"\\nOr\"The Book of the Religion of Faith.\"\\n\\n\\nCHAPTER XIII\\n\\nArjuna.\\nNow would I hear, O gracious Kesava![FN#26]\\nOf Life which seems, and Soul beyond, which sees,\\nAnd what it is we know-or think to know.\\n\\nKrishna.\\nYea! Son of Kunti! for this flesh ye see\\nIs Kshetra, is the field where Life disports;\\nAnd that which views and knows it is the Soul,\\nKshetrajna. In all \"fields,\" thou Indian prince!\\nI am Kshetrajna. I am what surveys!\\nOnly that knowledge knows which knows the known\\nBy the knower![FN#27] What it is, that \"field\" of life,\\nWhat qualities it hath, and whence it is,\\nAnd why it changeth, and the faculty\\nThat wotteth it, the mightiness of this,\\nAnd how it wotteth-hear these things from Me!\\n\\n. . . . . . . . . . . .[FN#28]'),\n",
       " Document(page_content=\"[Hide, the holy Krishna saith,\\nThis from him that hath no faith,\\nHim that worships not, nor seeks\\nWisdom's teaching when she speaks:\\nHide it from all men who mock;\\nBut, wherever, 'mid the flock\\nOf My lovers, one shall teach\\nThis divinest, wisest, speech--\\nTeaching in the faith to bring\\nTruth to them, and offering\\nOf all honour unto Me--\\nUnto Brahma cometh he!\\nNay, and nowhere shall ye find\\nAny man of all mankind\\nDoing dearer deed for Me;\\nNor shall any dearer be\\nIn My earth. Yea, furthermore,\\nWhoso reads this converse o'er,\\nHeld by Us upon the plain,\\nPondering piously and fain,\\nHe hath paid Me sacrifice!\\n(Krishna speaketh in this wise!)\\nYea, and whoso, full of faith,\\nHeareth wisely what it saith,\\nHeareth meekly,--when he dies,\\nSurely shall his spirit rise\\nTo those regions where the Blest,\\nFree of flesh, in joyance rest.]\\n\\nHath this been heard by thee, O Indian Prince!\\nWith mind intent? hath all the ignorance--\\nWhich bred thy trouble--vanished, My Arjun?\"),\n",
       " Document(page_content='Yea! whoso, shaking off the yoke of flesh\\nLives lord, not servant, of his lusts; set free\\nFrom pride, from passion, from the sin of \"Self,\"\\nToucheth tranquillity! O Pritha\\'s Son!\\nThat is the state of Brahm! There rests no dread\\nWhen that last step is reached! Live where he will,\\nDie when he may, such passeth from all \\'plaining,\\nTo blest Nirvana, with the Gods, attaining.\\n\\nHERE ENDETH CHAPTER II. OF THE BHAGAVAD-GITA,\\nEntitled \"Sankhya-Yog,\"\\nOr \"The Book of Doctrines.\"\\n\\n\\nCHAPTER III\\n\\nArjuna.\\nThou whom all mortals praise, Janardana!\\nIf meditation be a nobler thing\\nThan action, wherefore, then, great Kesava!\\nDost thou impel me to this dreadful fight?\\nNow am I by thy doubtful speech disturbed!\\nTell me one thing, and tell me certainly;\\nBy what road shall I find the better end?\\n\\nKrishna.\\nI told thee, blameless Lord! there be two paths\\nShown to this world; two schools of wisdom.'),\n",
       " Document(page_content=\"Krishna.\\nYea! thou hast seen, Arjuna! because I loved thee well,\\nThe secret countenance of Me, revealed by mystic spell,\\nShining, and wonderful, and vast, majestic, manifold,\\nWhich none save thou in all the years had favour to behold;\\nFor not by Vedas cometh this, nor sacrifice, nor alms,\\nNor works well-done, nor penance long, nor prayers, nor chaunted\\npsalms,\\nThat mortal eyes should bear to view the Immortal Soul unclad,\\nPrince of the Kurus! This was kept for thee alone! Be glad!\\nLet no more trouble shake thy heart, because thine eyes have seen\\nMy terror with My glory. As I before have been\\nSo will I be again for thee; with lightened heart behold!\\nOnce more I am thy Krishna, the form thou knew'st of old!\\n\\nSanjaya.\\nThese words to Arjuna spake\\nVasudev, and straight did take\\nBack again the semblance dear\\nOf the well-loved charioteer;\\nPeace and joy it did restore\\nWhen the Prince beheld once more\\nMighty BRAHMA's form and face\\nClothed in Krishna's gentle grace.\"),\n",
       " Document(page_content=\"Arjuna.\\nTrouble and ignorance are gone! the Light\\nHath come unto me, by Thy favour, Lord!\\nNow am I fixed! my doubt is fled away!\\nAccording to Thy word, so will I do!\\n\\nSanjaya.\\nThus gathered I the gracious speech of Krishna, O my King!\\nThus have I told, with heart a-thrill, this wise and wondrous thing\\nBy great Vyasa's learning writ, how Krishna's self made known\\nThe Yoga, being Yoga's Lord. So is the high truth shown!\\nAnd aye, when I remember, O Lord my King, again\\nArjuna and the God in talk, and all this holy strain,\\nGreat is my gladness: when I muse that splendour, passing speech,\\nOf Hari, visible and plain, there is no tongue to reach\\nMy marvel and my love and bliss. O Archer-Prince! all hail!\\nO Krishna, Lord of Yoga! surely there shall not fail\\nBlessing, and victory, and power, for Thy most mighty sake,\\nWhere this song comes of Arjun, and how with God he spake.\"),\n",
       " Document(page_content='CHAPTER XII\\n\\nArjuna.\\nLord! of the men who serve Thee--true in heart--\\nAs God revealed; and of the men who serve,\\nWorshipping Thee Unrevealed, Unbodied, Far,\\nWhich take the better way of faith and life?\\n\\nKrishna.\\nWhoever serve Me--as I show Myself--\\nConstantly true, in full devotion fixed,\\nThose hold I very holy. But who serve--\\nWorshipping Me The One, The Invisible,\\nThe Unrevealed, Unnamed, Unthinkable,\\nUttermost, All-pervading, Highest, Sure--\\nWho thus adore Me, mastering their sense,\\nOf one set mind to all, glad in all good,\\nThese blessed souls come unto Me.'),\n",
       " Document(page_content='Then \\'twas-\\nBeholding Dhritirashtra\\'s battle set,\\nWeapons unsheathing, bows drawn forth, the war\\nInstant to break-Arjun, whose ensign-badge\\nWas Hanuman the monkey, spake this thing\\nTo Krishna the Divine, his charioteer:\\n\"Drive, Dauntless One! to yonder open ground\\nBetwixt the armies; I would see more nigh\\nThese who will fight with us, those we must slay\\nTo-day, in war\\'s arbitrament; for, sure,\\nOn bloodshed all are bent who throng this plain,\\nObeying Dhritirashtra\\'s sinful son.\"')]"
      ]
     },
     "execution_count": 4,
     "metadata": {},
     "output_type": "execute_result"
    }
   ],
   "source": [
    "unique_docs"
   ]
  },
  {
   "cell_type": "code",
   "execution_count": 5,
   "id": "26c561fb-cfd1-478f-9ec9-634d325f49d7",
   "metadata": {},
   "outputs": [
    {
     "name": "stdout",
     "output_type": "stream",
     "text": [
      "page_content='HERE ENDETH CHAPTER IV. OF THE BHAGAVAD-GITA,\\nEntitled \"Jnana Yog,\"\\nOr \"The Book of the Religion of Knowledge,\"\\n\\n\\nCHAPTER V\\n\\nArjuna.\\nYet, Krishna! at the one time thou dost laud\\nSurcease of works, and, at another time,\\nService through work. Of these twain plainly tell\\nWhich is the better way?\\n\\nKrishna.\\nTo cease from works\\nIs well, and to do works in holiness\\nIs well; and both conduct to bliss supreme;\\nBut of these twain the better way is his\\nWho working piously refraineth not.'page_content='HERE ENDETH CHAPTER XII. OF THE BHAGAVAD-GITA,\\nEntitled \"Bhaktiyog,\"\\nOr\"The Book of the Religion of Faith.\"\\n\\n\\nCHAPTER XIII\\n\\nArjuna.\\nNow would I hear, O gracious Kesava![FN#26]\\nOf Life which seems, and Soul beyond, which sees,\\nAnd what it is we know-or think to know.\\n\\nKrishna.\\nYea! Son of Kunti! for this flesh ye see\\nIs Kshetra, is the field where Life disports;\\nAnd that which views and knows it is the Soul,\\nKshetrajna. In all \"fields,\" thou Indian prince!\\nI am Kshetrajna. I am what surveys!\\nOnly that knowledge knows which knows the known\\nBy the knower![FN#27] What it is, that \"field\" of life,\\nWhat qualities it hath, and whence it is,\\nAnd why it changeth, and the faculty\\nThat wotteth it, the mightiness of this,\\nAnd how it wotteth-hear these things from Me!\\n\\n. . . . . . . . . . . .[FN#28]'page_content=\"[Hide, the holy Krishna saith,\\nThis from him that hath no faith,\\nHim that worships not, nor seeks\\nWisdom's teaching when she speaks:\\nHide it from all men who mock;\\nBut, wherever, 'mid the flock\\nOf My lovers, one shall teach\\nThis divinest, wisest, speech--\\nTeaching in the faith to bring\\nTruth to them, and offering\\nOf all honour unto Me--\\nUnto Brahma cometh he!\\nNay, and nowhere shall ye find\\nAny man of all mankind\\nDoing dearer deed for Me;\\nNor shall any dearer be\\nIn My earth. Yea, furthermore,\\nWhoso reads this converse o'er,\\nHeld by Us upon the plain,\\nPondering piously and fain,\\nHe hath paid Me sacrifice!\\n(Krishna speaketh in this wise!)\\nYea, and whoso, full of faith,\\nHeareth wisely what it saith,\\nHeareth meekly,--when he dies,\\nSurely shall his spirit rise\\nTo those regions where the Blest,\\nFree of flesh, in joyance rest.]\\n\\nHath this been heard by thee, O Indian Prince!\\nWith mind intent? hath all the ignorance--\\nWhich bred thy trouble--vanished, My Arjun?\"page_content='Yea! whoso, shaking off the yoke of flesh\\nLives lord, not servant, of his lusts; set free\\nFrom pride, from passion, from the sin of \"Self,\"\\nToucheth tranquillity! O Pritha\\'s Son!\\nThat is the state of Brahm! There rests no dread\\nWhen that last step is reached! Live where he will,\\nDie when he may, such passeth from all \\'plaining,\\nTo blest Nirvana, with the Gods, attaining.\\n\\nHERE ENDETH CHAPTER II. OF THE BHAGAVAD-GITA,\\nEntitled \"Sankhya-Yog,\"\\nOr \"The Book of Doctrines.\"\\n\\n\\nCHAPTER III\\n\\nArjuna.\\nThou whom all mortals praise, Janardana!\\nIf meditation be a nobler thing\\nThan action, wherefore, then, great Kesava!\\nDost thou impel me to this dreadful fight?\\nNow am I by thy doubtful speech disturbed!\\nTell me one thing, and tell me certainly;\\nBy what road shall I find the better end?\\n\\nKrishna.\\nI told thee, blameless Lord! there be two paths\\nShown to this world; two schools of wisdom.'page_content=\"Krishna.\\nYea! thou hast seen, Arjuna! because I loved thee well,\\nThe secret countenance of Me, revealed by mystic spell,\\nShining, and wonderful, and vast, majestic, manifold,\\nWhich none save thou in all the years had favour to behold;\\nFor not by Vedas cometh this, nor sacrifice, nor alms,\\nNor works well-done, nor penance long, nor prayers, nor chaunted\\npsalms,\\nThat mortal eyes should bear to view the Immortal Soul unclad,\\nPrince of the Kurus! This was kept for thee alone! Be glad!\\nLet no more trouble shake thy heart, because thine eyes have seen\\nMy terror with My glory. As I before have been\\nSo will I be again for thee; with lightened heart behold!\\nOnce more I am thy Krishna, the form thou knew'st of old!\\n\\nSanjaya.\\nThese words to Arjuna spake\\nVasudev, and straight did take\\nBack again the semblance dear\\nOf the well-loved charioteer;\\nPeace and joy it did restore\\nWhen the Prince beheld once more\\nMighty BRAHMA's form and face\\nClothed in Krishna's gentle grace.\"page_content=\"Arjuna.\\nTrouble and ignorance are gone! the Light\\nHath come unto me, by Thy favour, Lord!\\nNow am I fixed! my doubt is fled away!\\nAccording to Thy word, so will I do!\\n\\nSanjaya.\\nThus gathered I the gracious speech of Krishna, O my King!\\nThus have I told, with heart a-thrill, this wise and wondrous thing\\nBy great Vyasa's learning writ, how Krishna's self made known\\nThe Yoga, being Yoga's Lord. So is the high truth shown!\\nAnd aye, when I remember, O Lord my King, again\\nArjuna and the God in talk, and all this holy strain,\\nGreat is my gladness: when I muse that splendour, passing speech,\\nOf Hari, visible and plain, there is no tongue to reach\\nMy marvel and my love and bliss. O Archer-Prince! all hail!\\nO Krishna, Lord of Yoga! surely there shall not fail\\nBlessing, and victory, and power, for Thy most mighty sake,\\nWhere this song comes of Arjun, and how with God he spake.\"page_content='CHAPTER XII\\n\\nArjuna.\\nLord! of the men who serve Thee--true in heart--\\nAs God revealed; and of the men who serve,\\nWorshipping Thee Unrevealed, Unbodied, Far,\\nWhich take the better way of faith and life?\\n\\nKrishna.\\nWhoever serve Me--as I show Myself--\\nConstantly true, in full devotion fixed,\\nThose hold I very holy. But who serve--\\nWorshipping Me The One, The Invisible,\\nThe Unrevealed, Unnamed, Unthinkable,\\nUttermost, All-pervading, Highest, Sure--\\nWho thus adore Me, mastering their sense,\\nOf one set mind to all, glad in all good,\\nThese blessed souls come unto Me.'page_content='Then \\'twas-\\nBeholding Dhritirashtra\\'s battle set,\\nWeapons unsheathing, bows drawn forth, the war\\nInstant to break-Arjun, whose ensign-badge\\nWas Hanuman the monkey, spake this thing\\nTo Krishna the Divine, his charioteer:\\n\"Drive, Dauntless One! to yonder open ground\\nBetwixt the armies; I would see more nigh\\nThese who will fight with us, those we must slay\\nTo-day, in war\\'s arbitrament; for, sure,\\nOn bloodshed all are bent who throng this plain,\\nObeying Dhritirashtra\\'s sinful son.\"'"
     ]
    }
   ],
   "source": [
    "for i in unique_docs:\n",
    "    print(i,end=\"\",flush=True)"
   ]
  }
 ],
 "metadata": {
  "kernelspec": {
   "display_name": "Python 3 (ipykernel)",
   "language": "python",
   "name": "python3"
  },
  "language_info": {
   "codemirror_mode": {
    "name": "ipython",
    "version": 3
   },
   "file_extension": ".py",
   "mimetype": "text/x-python",
   "name": "python",
   "nbconvert_exporter": "python",
   "pygments_lexer": "ipython3",
   "version": "3.11.5"
  }
 },
 "nbformat": 4,
 "nbformat_minor": 5
}
