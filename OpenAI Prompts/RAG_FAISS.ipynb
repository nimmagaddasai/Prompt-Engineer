{
 "cells": [
  {
   "cell_type": "code",
   "execution_count": 1,
   "id": "d80f3cea-d54a-469b-b2ee-526114b12058",
   "metadata": {},
   "outputs": [],
   "source": [
    "from langchain.document_loaders import PyPDFLoader\n",
    "#https://stphilipwestbrook.co.uk/wp-content/uploads/2020/03/Alice-in-Wonderland-Story.pdf\n",
    "loader = PyPDFLoader(\"Alice-in-Wonderland-Story.pdf\")\n",
    "pdfpages = loader.load_and_split()"
   ]
  },
  {
   "cell_type": "code",
   "execution_count": 2,
   "id": "794d185b-8043-42ea-a1d4-8a72e0cb2e4a",
   "metadata": {},
   "outputs": [],
   "source": [
    "import os\n",
    "os.environ['OPENAI_API_KEY'] = ''"
   ]
  },
  {
   "cell_type": "code",
   "execution_count": 3,
   "id": "62f5fbf5-8068-4498-83df-d14b1cc7e1e8",
   "metadata": {},
   "outputs": [
    {
     "name": "stderr",
     "output_type": "stream",
     "text": [
      "C:\\Users\\91798\\anaconda3\\Lib\\site-packages\\langchain_core\\_api\\deprecation.py:117: LangChainDeprecationWarning: The class `langchain_community.embeddings.openai.OpenAIEmbeddings` was deprecated in langchain-community 0.1.0 and will be removed in 0.2.0. An updated version of the class exists in the langchain-openai package and should be used instead. To use it run `pip install -U langchain-openai` and import as `from langchain_openai import OpenAIEmbeddings`.\n",
      "  warn_deprecated(\n"
     ]
    }
   ],
   "source": [
    "from langchain.embeddings import OpenAIEmbeddings\n",
    "from langchain.vectorstores import FAISS\n",
    "\n",
    "pdfstore = FAISS.from_documents(pdfpages, embedding=OpenAIEmbeddings())"
   ]
  },
  {
   "cell_type": "code",
   "execution_count": 4,
   "id": "88c7d984-690c-44ff-a1c4-e4a958fd7fd1",
   "metadata": {},
   "outputs": [],
   "source": [
    "retriever = pdfstore.as_retriever()"
   ]
  },
  {
   "cell_type": "code",
   "execution_count": 5,
   "id": "244ea76d-26ff-4703-a827-7842a6a5df2a",
   "metadata": {},
   "outputs": [
    {
     "name": "stdout",
     "output_type": "stream",
     "text": [
      "Suddenly, Alice felt herself falling.\n",
      "For a long time, she tumbled down the rabbit hole.\n",
      "Finally, she landed with a bump in a long hallway \n",
      "which had a tiny door at the end of it.\n"
     ]
    }
   ],
   "source": [
    "retrieved_docs = retriever.invoke(\"How did Alice reach Wonderland?\")\n",
    "print(retrieved_docs[0].page_content)"
   ]
  },
  {
   "cell_type": "code",
   "execution_count": 6,
   "id": "91c7de54-3cb6-45c0-8ddd-817c0ebd5588",
   "metadata": {},
   "outputs": [],
   "source": [
    "retriever1 = pdfstore.as_retriever()"
   ]
  },
  {
   "cell_type": "code",
   "execution_count": 7,
   "id": "692634d0-59b3-4e65-9fbd-09a0025492e0",
   "metadata": {},
   "outputs": [
    {
     "name": "stdout",
     "output_type": "stream",
     "text": [
      "“I had a strange dream,” said Alice.\n",
      "Alice told her sister all about her adventure. \n",
      "Before long, Alice realised that she hadn’t eaten for hours \n",
      "and she ran inside for something to eat.\n"
     ]
    }
   ],
   "source": [
    "retrieved_docs1 = retriever1.invoke(\"What strange things did Alice see?\")\n",
    "print(retrieved_docs1[0].page_content)"
   ]
  },
  {
   "cell_type": "code",
   "execution_count": 8,
   "id": "ab0a4154-ed55-430e-be81-b481fad5a798",
   "metadata": {},
   "outputs": [
    {
     "name": "stdout",
     "output_type": "stream",
     "text": [
      "Alice followed the rabbit to the hole.\n",
      "She peered through the entrance but she could no \n",
      "longer see the rabbit.\n",
      "She squeezed her head and shoulders into the hole. \n",
      "Then, she wriggled her body a little further…\n"
     ]
    }
   ],
   "source": [
    "retrieved_docs = retriever.invoke(\"What was different about the rabbit that Alice saw?\")\n",
    "print(retrieved_docs[0].page_content)"
   ]
  },
  {
   "cell_type": "code",
   "execution_count": 9,
   "id": "66947d97-28d4-4667-9721-93cd0a30ad67",
   "metadata": {},
   "outputs": [
    {
     "name": "stderr",
     "output_type": "stream",
     "text": [
      "C:\\Users\\91798\\anaconda3\\Lib\\site-packages\\langchain_core\\_api\\deprecation.py:117: LangChainDeprecationWarning: The class `langchain_community.chat_models.openai.ChatOpenAI` was deprecated in langchain-community 0.0.10 and will be removed in 0.2.0. An updated version of the class exists in the langchain-openai package and should be used instead. To use it run `pip install -U langchain-openai` and import as `from langchain_openai import ChatOpenAI`.\n",
      "  warn_deprecated(\n"
     ]
    },
    {
     "name": "stdout",
     "output_type": "stream",
     "text": [
      "Number of unique documents: 4\n"
     ]
    }
   ],
   "source": [
    "from langchain.chat_models import ChatOpenAI\n",
    "from langchain.retrievers.multi_query import MultiQueryRetriever\n",
    "\n",
    "question = \"What was different about the rabbit that Alice saw?\"\n",
    "llm = ChatOpenAI(temperature=0)\n",
    "retriever_from_llm = MultiQueryRetriever.from_llm(\n",
    "    retriever=pdfstore.as_retriever(), llm=llm\n",
    ")\n",
    "\n",
    "unique_docs = retriever_from_llm.get_relevant_documents(query=question)\n",
    "print(\"Number of unique documents:\", len(unique_docs))"
   ]
  },
  {
   "cell_type": "code",
   "execution_count": 10,
   "id": "5c8241ef-d32f-4a66-a7bb-bf6f8ccba668",
   "metadata": {},
   "outputs": [
    {
     "data": {
      "text/plain": [
       "[Document(page_content='Alice followed the rabbit to the hole.\\nShe peered through the entrance but she could no \\nlonger see the rabbit.\\nShe squeezed her head and shoulders into the hole. \\nThen, she wriggled her body a little further…', metadata={'source': 'Alice-in-Wonderland-Story.pdf', 'page': 3}),\n",
       " Document(page_content=\"Suddenly, a small, white rabbit raced past.\\nThe rabbit was wearing clothes! \\nHe pulled a watch from his pocket to check the time.\\nHe cried, “Oh dear! Oh no! I'm late! I’m late!”\\nThe rabbit shook his head and then disappeared down \\na rabbit hole.\", metadata={'source': 'Alice-in-Wonderland-Story.pdf', 'page': 2}),\n",
       " Document(page_content='Suddenly, Alice felt herself falling.\\nFor a long time, she tumbled down the rabbit hole.\\nFinally, she landed with a bump in a long hallway \\nwhich had a tiny door at the end of it.', metadata={'source': 'Alice-in-Wonderland-Story.pdf', 'page': 4}),\n",
       " Document(page_content=\"“I'm far too big to fit through such a little door,”\\nAlice said to herself. \\nNearby, on a three -legged table, she found a small bottle. \\nThe bottle had a label on it which read ‘drink me’.\\nAlice quickly drank from the bottle.\", metadata={'source': 'Alice-in-Wonderland-Story.pdf', 'page': 5})]"
      ]
     },
     "execution_count": 10,
     "metadata": {},
     "output_type": "execute_result"
    }
   ],
   "source": [
    "unique_docs"
   ]
  },
  {
   "cell_type": "code",
   "execution_count": null,
   "id": "89f282c4-bbc4-4674-a7b1-09bbd4a5c427",
   "metadata": {},
   "outputs": [],
   "source": []
  }
 ],
 "metadata": {
  "kernelspec": {
   "display_name": "Python 3 (ipykernel)",
   "language": "python",
   "name": "python3"
  },
  "language_info": {
   "codemirror_mode": {
    "name": "ipython",
    "version": 3
   },
   "file_extension": ".py",
   "mimetype": "text/x-python",
   "name": "python",
   "nbconvert_exporter": "python",
   "pygments_lexer": "ipython3",
   "version": "3.11.5"
  }
 },
 "nbformat": 4,
 "nbformat_minor": 5
}
