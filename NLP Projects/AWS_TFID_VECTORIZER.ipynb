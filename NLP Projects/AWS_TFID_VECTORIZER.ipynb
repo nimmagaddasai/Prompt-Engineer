{
 "cells": [
  {
   "cell_type": "code",
   "execution_count": 1,
   "id": "396c5ade",
   "metadata": {},
   "outputs": [],
   "source": [
    "import pandas as pd\n",
    "import numpy as np\n",
    "import os\n",
    "import re\n",
    "import random\n",
    "import pandas as pd"
   ]
  },
  {
   "cell_type": "markdown",
   "id": "6e5fcd86",
   "metadata": {},
   "source": [
    "# Loading Product Review Dataset"
   ]
  },
  {
   "cell_type": "code",
   "execution_count": 2,
   "id": "5da7a4ae",
   "metadata": {},
   "outputs": [
    {
     "name": "stderr",
     "output_type": "stream",
     "text": [
      "C:\\Users\\91798\\AppData\\Local\\Temp\\ipykernel_15320\\2031363380.py:1: DtypeWarning: Columns (11) have mixed types. Specify dtype option on import or set low_memory=False.\n",
      "  df = pd.read_csv(\"aws_review_sofware_dataset.csv\")\n"
     ]
    }
   ],
   "source": [
    "df = pd.read_csv(\"aws_review_sofware_dataset.csv\")"
   ]
  },
  {
   "cell_type": "code",
   "execution_count": 3,
   "id": "ac0bc716",
   "metadata": {},
   "outputs": [
    {
     "data": {
      "text/plain": [
       "Index(['Unnamed: 0', 'overall', 'verified', 'reviewTime', 'reviewerID', 'asin',\n",
       "       'style', 'reviewerName', 'reviewText', 'summary', 'unixReviewTime',\n",
       "       'vote', 'image'],\n",
       "      dtype='object')"
      ]
     },
     "execution_count": 3,
     "metadata": {},
     "output_type": "execute_result"
    }
   ],
   "source": [
    "df.columns"
   ]
  },
  {
   "cell_type": "markdown",
   "id": "9b613dc0",
   "metadata": {},
   "source": [
    "# Take only few rows and columns"
   ]
  },
  {
   "cell_type": "code",
   "execution_count": 4,
   "id": "c9595aef",
   "metadata": {},
   "outputs": [],
   "source": [
    "df = df.sample(n=10000,random_state = 42)\n",
    "df = df[df.index.isin(df.index)]\n",
    "df = df.reset_index(drop = True)"
   ]
  },
  {
   "cell_type": "code",
   "execution_count": 5,
   "id": "d616bc1a",
   "metadata": {},
   "outputs": [
    {
     "data": {
      "text/html": [
       "<div>\n",
       "<style scoped>\n",
       "    .dataframe tbody tr th:only-of-type {\n",
       "        vertical-align: middle;\n",
       "    }\n",
       "\n",
       "    .dataframe tbody tr th {\n",
       "        vertical-align: top;\n",
       "    }\n",
       "\n",
       "    .dataframe thead th {\n",
       "        text-align: right;\n",
       "    }\n",
       "</style>\n",
       "<table border=\"1\" class=\"dataframe\">\n",
       "  <thead>\n",
       "    <tr style=\"text-align: right;\">\n",
       "      <th></th>\n",
       "      <th>Unnamed: 0</th>\n",
       "      <th>overall</th>\n",
       "      <th>verified</th>\n",
       "      <th>reviewTime</th>\n",
       "      <th>reviewerID</th>\n",
       "      <th>asin</th>\n",
       "      <th>style</th>\n",
       "      <th>reviewerName</th>\n",
       "      <th>reviewText</th>\n",
       "      <th>summary</th>\n",
       "      <th>unixReviewTime</th>\n",
       "      <th>vote</th>\n",
       "      <th>image</th>\n",
       "    </tr>\n",
       "  </thead>\n",
       "  <tbody>\n",
       "    <tr>\n",
       "      <th>0</th>\n",
       "      <td>359583</td>\n",
       "      <td>1.0</td>\n",
       "      <td>True</td>\n",
       "      <td>04 30, 2016</td>\n",
       "      <td>A3K6NXE4QDCLIG</td>\n",
       "      <td>B018OJLIX6</td>\n",
       "      <td>NaN</td>\n",
       "      <td>Kent</td>\n",
       "      <td>We run a top of the line system utilizing Wind...</td>\n",
       "      <td>Does not work on Windows 10</td>\n",
       "      <td>1461974400</td>\n",
       "      <td>6</td>\n",
       "      <td>NaN</td>\n",
       "    </tr>\n",
       "    <tr>\n",
       "      <th>1</th>\n",
       "      <td>141722</td>\n",
       "      <td>5.0</td>\n",
       "      <td>True</td>\n",
       "      <td>11 14, 2015</td>\n",
       "      <td>AXFINZCCNA8NV</td>\n",
       "      <td>B008H3SW4I</td>\n",
       "      <td>{'Format:': ' Software'}</td>\n",
       "      <td>Amazon Customer</td>\n",
       "      <td>I don't really know why there were so many com...</td>\n",
       "      <td>Works well for me</td>\n",
       "      <td>1447459200</td>\n",
       "      <td>NaN</td>\n",
       "      <td>NaN</td>\n",
       "    </tr>\n",
       "    <tr>\n",
       "      <th>2</th>\n",
       "      <td>94354</td>\n",
       "      <td>5.0</td>\n",
       "      <td>True</td>\n",
       "      <td>01 20, 2011</td>\n",
       "      <td>A1FWHS8Q7G8VKJ</td>\n",
       "      <td>B0039Y58YC</td>\n",
       "      <td>NaN</td>\n",
       "      <td>Solitary</td>\n",
       "      <td>I have used both WordPerfect Office and Micros...</td>\n",
       "      <td>Software is User Friendly</td>\n",
       "      <td>1295481600</td>\n",
       "      <td>NaN</td>\n",
       "      <td>NaN</td>\n",
       "    </tr>\n",
       "    <tr>\n",
       "      <th>3</th>\n",
       "      <td>215474</td>\n",
       "      <td>4.0</td>\n",
       "      <td>True</td>\n",
       "      <td>09 10, 2016</td>\n",
       "      <td>A1MY6QNNH340MX</td>\n",
       "      <td>B00F3ZN2W0</td>\n",
       "      <td>NaN</td>\n",
       "      <td>Numb</td>\n",
       "      <td>If you are buying for a build, don't be like m...</td>\n",
       "      <td>don't be like me and make sure you either have...</td>\n",
       "      <td>1473465600</td>\n",
       "      <td>NaN</td>\n",
       "      <td>NaN</td>\n",
       "    </tr>\n",
       "    <tr>\n",
       "      <th>4</th>\n",
       "      <td>367254</td>\n",
       "      <td>1.0</td>\n",
       "      <td>True</td>\n",
       "      <td>03 25, 2016</td>\n",
       "      <td>A1F2KSFD73HHG6</td>\n",
       "      <td>B00001QGWI</td>\n",
       "      <td>NaN</td>\n",
       "      <td>Davis V Hill</td>\n",
       "      <td>Did not meet expectations.  Too juvenile for m...</td>\n",
       "      <td>Be careful!</td>\n",
       "      <td>1458864000</td>\n",
       "      <td>NaN</td>\n",
       "      <td>NaN</td>\n",
       "    </tr>\n",
       "    <tr>\n",
       "      <th>...</th>\n",
       "      <td>...</td>\n",
       "      <td>...</td>\n",
       "      <td>...</td>\n",
       "      <td>...</td>\n",
       "      <td>...</td>\n",
       "      <td>...</td>\n",
       "      <td>...</td>\n",
       "      <td>...</td>\n",
       "      <td>...</td>\n",
       "      <td>...</td>\n",
       "      <td>...</td>\n",
       "      <td>...</td>\n",
       "      <td>...</td>\n",
       "    </tr>\n",
       "    <tr>\n",
       "      <th>9995</th>\n",
       "      <td>166882</td>\n",
       "      <td>4.0</td>\n",
       "      <td>False</td>\n",
       "      <td>09 22, 2013</td>\n",
       "      <td>A198C37V3NQZI0</td>\n",
       "      <td>B00B1JWX2M</td>\n",
       "      <td>NaN</td>\n",
       "      <td>TJ Williams</td>\n",
       "      <td>I ordered Proposal Pack Wizard in 2011 and the...</td>\n",
       "      <td>A Great Product</td>\n",
       "      <td>1379808000</td>\n",
       "      <td>NaN</td>\n",
       "      <td>NaN</td>\n",
       "    </tr>\n",
       "    <tr>\n",
       "      <th>9996</th>\n",
       "      <td>171707</td>\n",
       "      <td>5.0</td>\n",
       "      <td>True</td>\n",
       "      <td>01 14, 2015</td>\n",
       "      <td>AD4F0J7JO5NM</td>\n",
       "      <td>B00BBJPPXG</td>\n",
       "      <td>{'Platform:': ' PC/Mac/Android/iOS Code'}</td>\n",
       "      <td>Francois P.</td>\n",
       "      <td>i've been using Norton 360 with windows 7 for ...</td>\n",
       "      <td>and i am satisfied.</td>\n",
       "      <td>1421193600</td>\n",
       "      <td>NaN</td>\n",
       "      <td>NaN</td>\n",
       "    </tr>\n",
       "    <tr>\n",
       "      <th>9997</th>\n",
       "      <td>398604</td>\n",
       "      <td>4.0</td>\n",
       "      <td>True</td>\n",
       "      <td>12 26, 2007</td>\n",
       "      <td>A2Y0TX9P5GIHRY</td>\n",
       "      <td>B000I84DSY</td>\n",
       "      <td>NaN</td>\n",
       "      <td>Darrel</td>\n",
       "      <td>Very good protection and does not bog down the...</td>\n",
       "      <td>CA Internet Security Suite 2007 - 3 User</td>\n",
       "      <td>1198627200</td>\n",
       "      <td>NaN</td>\n",
       "      <td>NaN</td>\n",
       "    </tr>\n",
       "    <tr>\n",
       "      <th>9998</th>\n",
       "      <td>424597</td>\n",
       "      <td>3.0</td>\n",
       "      <td>True</td>\n",
       "      <td>03 14, 2015</td>\n",
       "      <td>A38O8TX78RPDOI</td>\n",
       "      <td>B005FIWU3W</td>\n",
       "      <td>{'Format:': ' CD-ROM'}</td>\n",
       "      <td>smartypants</td>\n",
       "      <td>Quickbooks is a great product.  HOWEVER, the f...</td>\n",
       "      <td>Does what it's suppose to.</td>\n",
       "      <td>1426291200</td>\n",
       "      <td>NaN</td>\n",
       "      <td>NaN</td>\n",
       "    </tr>\n",
       "    <tr>\n",
       "      <th>9999</th>\n",
       "      <td>41609</td>\n",
       "      <td>2.0</td>\n",
       "      <td>False</td>\n",
       "      <td>10 4, 2012</td>\n",
       "      <td>A2K7LU6FGS38G1</td>\n",
       "      <td>B000I3C36S</td>\n",
       "      <td>NaN</td>\n",
       "      <td>LCW</td>\n",
       "      <td>I upgraded my business laptop and wanted to tr...</td>\n",
       "      <td>Laplink PC-Mover; Not that great</td>\n",
       "      <td>1349308800</td>\n",
       "      <td>NaN</td>\n",
       "      <td>NaN</td>\n",
       "    </tr>\n",
       "  </tbody>\n",
       "</table>\n",
       "<p>10000 rows × 13 columns</p>\n",
       "</div>"
      ],
      "text/plain": [
       "      Unnamed: 0  overall  verified   reviewTime      reviewerID        asin  \\\n",
       "0         359583      1.0      True  04 30, 2016  A3K6NXE4QDCLIG  B018OJLIX6   \n",
       "1         141722      5.0      True  11 14, 2015   AXFINZCCNA8NV  B008H3SW4I   \n",
       "2          94354      5.0      True  01 20, 2011  A1FWHS8Q7G8VKJ  B0039Y58YC   \n",
       "3         215474      4.0      True  09 10, 2016  A1MY6QNNH340MX  B00F3ZN2W0   \n",
       "4         367254      1.0      True  03 25, 2016  A1F2KSFD73HHG6  B00001QGWI   \n",
       "...          ...      ...       ...          ...             ...         ...   \n",
       "9995      166882      4.0     False  09 22, 2013  A198C37V3NQZI0  B00B1JWX2M   \n",
       "9996      171707      5.0      True  01 14, 2015    AD4F0J7JO5NM  B00BBJPPXG   \n",
       "9997      398604      4.0      True  12 26, 2007  A2Y0TX9P5GIHRY  B000I84DSY   \n",
       "9998      424597      3.0      True  03 14, 2015  A38O8TX78RPDOI  B005FIWU3W   \n",
       "9999       41609      2.0     False   10 4, 2012  A2K7LU6FGS38G1  B000I3C36S   \n",
       "\n",
       "                                          style     reviewerName  \\\n",
       "0                                           NaN             Kent   \n",
       "1                      {'Format:': ' Software'}  Amazon Customer   \n",
       "2                                           NaN         Solitary   \n",
       "3                                           NaN             Numb   \n",
       "4                                           NaN     Davis V Hill   \n",
       "...                                         ...              ...   \n",
       "9995                                        NaN      TJ Williams   \n",
       "9996  {'Platform:': ' PC/Mac/Android/iOS Code'}      Francois P.   \n",
       "9997                                        NaN           Darrel   \n",
       "9998                     {'Format:': ' CD-ROM'}      smartypants   \n",
       "9999                                        NaN              LCW   \n",
       "\n",
       "                                             reviewText  \\\n",
       "0     We run a top of the line system utilizing Wind...   \n",
       "1     I don't really know why there were so many com...   \n",
       "2     I have used both WordPerfect Office and Micros...   \n",
       "3     If you are buying for a build, don't be like m...   \n",
       "4     Did not meet expectations.  Too juvenile for m...   \n",
       "...                                                 ...   \n",
       "9995  I ordered Proposal Pack Wizard in 2011 and the...   \n",
       "9996  i've been using Norton 360 with windows 7 for ...   \n",
       "9997  Very good protection and does not bog down the...   \n",
       "9998  Quickbooks is a great product.  HOWEVER, the f...   \n",
       "9999  I upgraded my business laptop and wanted to tr...   \n",
       "\n",
       "                                                summary  unixReviewTime vote  \\\n",
       "0                           Does not work on Windows 10      1461974400    6   \n",
       "1                                     Works well for me      1447459200  NaN   \n",
       "2                             Software is User Friendly      1295481600  NaN   \n",
       "3     don't be like me and make sure you either have...      1473465600  NaN   \n",
       "4                                           Be careful!      1458864000  NaN   \n",
       "...                                                 ...             ...  ...   \n",
       "9995                                    A Great Product      1379808000  NaN   \n",
       "9996                                and i am satisfied.      1421193600  NaN   \n",
       "9997           CA Internet Security Suite 2007 - 3 User      1198627200  NaN   \n",
       "9998                         Does what it's suppose to.      1426291200  NaN   \n",
       "9999                   Laplink PC-Mover; Not that great      1349308800  NaN   \n",
       "\n",
       "     image  \n",
       "0      NaN  \n",
       "1      NaN  \n",
       "2      NaN  \n",
       "3      NaN  \n",
       "4      NaN  \n",
       "...    ...  \n",
       "9995   NaN  \n",
       "9996   NaN  \n",
       "9997   NaN  \n",
       "9998   NaN  \n",
       "9999   NaN  \n",
       "\n",
       "[10000 rows x 13 columns]"
      ]
     },
     "execution_count": 5,
     "metadata": {},
     "output_type": "execute_result"
    }
   ],
   "source": [
    "df"
   ]
  },
  {
   "cell_type": "markdown",
   "id": "d9307cc1",
   "metadata": {},
   "source": [
    "# Checking for Null Values"
   ]
  },
  {
   "cell_type": "code",
   "execution_count": 6,
   "id": "008133eb",
   "metadata": {},
   "outputs": [
    {
     "data": {
      "text/plain": [
       "Unnamed: 0           0\n",
       "overall              0\n",
       "verified             0\n",
       "reviewTime           0\n",
       "reviewerID           0\n",
       "asin                 0\n",
       "style             4930\n",
       "reviewerName         1\n",
       "reviewText           0\n",
       "summary              1\n",
       "unixReviewTime       0\n",
       "vote              7143\n",
       "image             9965\n",
       "dtype: int64"
      ]
     },
     "execution_count": 6,
     "metadata": {},
     "output_type": "execute_result"
    }
   ],
   "source": [
    "df.isnull().sum()"
   ]
  },
  {
   "cell_type": "code",
   "execution_count": 7,
   "id": "728833dc",
   "metadata": {},
   "outputs": [],
   "source": [
    "df[\"words\"]=\"default value\"\n",
    "df[\"sentences\"]=\"default value\"\n",
    "\n",
    "\n",
    "for i in range(df.shape[0]):\n",
    "    df.at[i,\"words\"]= list(\"\")\n",
    "    df.at[i,\"sentences\"] = list(\"\")"
   ]
  },
  {
   "cell_type": "markdown",
   "id": "3317ae1c",
   "metadata": {},
   "source": [
    "# Sentence Tokenization"
   ]
  },
  {
   "cell_type": "code",
   "execution_count": 8,
   "id": "b16e5f3f",
   "metadata": {},
   "outputs": [],
   "source": [
    "from nltk.tokenize import sent_tokenize"
   ]
  },
  {
   "cell_type": "code",
   "execution_count": 9,
   "id": "ce2d728a",
   "metadata": {},
   "outputs": [],
   "source": [
    "for i in range(10000):\n",
    "    l1= sent_tokenize(df.loc[i,\"reviewText\"])\n",
    "    df.at[i,\"sentences\"]=l1"
   ]
  },
  {
   "cell_type": "markdown",
   "id": "a40458ad",
   "metadata": {},
   "source": [
    "# Word Tokenization"
   ]
  },
  {
   "cell_type": "code",
   "execution_count": 10,
   "id": "6229d378",
   "metadata": {},
   "outputs": [
    {
     "name": "stderr",
     "output_type": "stream",
     "text": [
      "Warming up PyWSD (takes ~10 secs)... took 3.430290937423706 secs.\n"
     ]
    }
   ],
   "source": [
    "from pywsd.utils import lemmatize_sentence"
   ]
  },
  {
   "cell_type": "code",
   "execution_count": 11,
   "id": "04a1ba17",
   "metadata": {},
   "outputs": [],
   "source": [
    "for k in range(10000):\n",
    "    df.at[k,\"words\"]=list(\"\")\n",
    "    for j in range(len(df.loc[k,\"sentences\"])):\n",
    "        df.at[k,\"words\"].extend(lemmatize_sentence(df.loc[k,\"sentences\"][j]))"
   ]
  },
  {
   "cell_type": "code",
   "execution_count": 12,
   "id": "67860c8a",
   "metadata": {},
   "outputs": [],
   "source": [
    "df[\"words_sentences\"] = [' ' for i in range(10000)]"
   ]
  },
  {
   "cell_type": "code",
   "execution_count": 13,
   "id": "9f91212b",
   "metadata": {},
   "outputs": [],
   "source": [
    "def get_str(list1):\n",
    "    s1 = ''\n",
    "    for i1 in list1:\n",
    "        s1 = s1+' '+i1\n",
    "    return s1"
   ]
  },
  {
   "cell_type": "code",
   "execution_count": 14,
   "id": "9d7b0ee6",
   "metadata": {},
   "outputs": [],
   "source": [
    "import functools\n",
    "for k in range(df.shape[0]):\n",
    "    df.loc[k,\"words_sentences\"]=get_str(df.loc[k,\"words\"])"
   ]
  },
  {
   "cell_type": "markdown",
   "id": "05d161ec",
   "metadata": {},
   "source": [
    "# TF-IDF Vectorizer"
   ]
  },
  {
   "cell_type": "code",
   "execution_count": 15,
   "id": "9043cfea",
   "metadata": {},
   "outputs": [],
   "source": [
    "from sklearn.feature_extraction.text import TfidfVectorizer"
   ]
  },
  {
   "cell_type": "code",
   "execution_count": 16,
   "id": "e3d2a687",
   "metadata": {},
   "outputs": [],
   "source": [
    "tfidf_vectorizer = TfidfVectorizer(stop_words='english')\n",
    "tfidf_matrix = tfidf_vectorizer.fit_transform(df.words_sentences)"
   ]
  },
  {
   "cell_type": "code",
   "execution_count": 17,
   "id": "af0a5d5e",
   "metadata": {},
   "outputs": [],
   "source": [
    "dense = pd.DataFrame(tfidf_matrix.todense(), columns=tfidf_vectorizer.get_feature_names_out())"
   ]
  },
  {
   "cell_type": "code",
   "execution_count": 18,
   "id": "da2299a7",
   "metadata": {},
   "outputs": [
    {
     "data": {
      "text/html": [
       "<div>\n",
       "<style scoped>\n",
       "    .dataframe tbody tr th:only-of-type {\n",
       "        vertical-align: middle;\n",
       "    }\n",
       "\n",
       "    .dataframe tbody tr th {\n",
       "        vertical-align: top;\n",
       "    }\n",
       "\n",
       "    .dataframe thead th {\n",
       "        text-align: right;\n",
       "    }\n",
       "</style>\n",
       "<table border=\"1\" class=\"dataframe\">\n",
       "  <thead>\n",
       "    <tr style=\"text-align: right;\">\n",
       "      <th></th>\n",
       "      <th>00</th>\n",
       "      <th>000</th>\n",
       "      <th>000000000003</th>\n",
       "      <th>00045</th>\n",
       "      <th>000articles</th>\n",
       "      <th>000yrs</th>\n",
       "      <th>001</th>\n",
       "      <th>008866</th>\n",
       "      <th>009</th>\n",
       "      <th>00gb</th>\n",
       "      <th>...</th>\n",
       "      <th>zookeeper</th>\n",
       "      <th>zoom</th>\n",
       "      <th>zoombini</th>\n",
       "      <th>zoombiniland</th>\n",
       "      <th>zoombinis</th>\n",
       "      <th>zooming</th>\n",
       "      <th>zr10</th>\n",
       "      <th>zu3d</th>\n",
       "      <th>zunko</th>\n",
       "      <th>zuzz</th>\n",
       "    </tr>\n",
       "  </thead>\n",
       "  <tbody>\n",
       "    <tr>\n",
       "      <th>0</th>\n",
       "      <td>0.0</td>\n",
       "      <td>0.0</td>\n",
       "      <td>0.0</td>\n",
       "      <td>0.0</td>\n",
       "      <td>0.0</td>\n",
       "      <td>0.0</td>\n",
       "      <td>0.0</td>\n",
       "      <td>0.0</td>\n",
       "      <td>0.0</td>\n",
       "      <td>0.0</td>\n",
       "      <td>...</td>\n",
       "      <td>0.0</td>\n",
       "      <td>0.0</td>\n",
       "      <td>0.0</td>\n",
       "      <td>0.0</td>\n",
       "      <td>0.0</td>\n",
       "      <td>0.0</td>\n",
       "      <td>0.0</td>\n",
       "      <td>0.0</td>\n",
       "      <td>0.0</td>\n",
       "      <td>0.0</td>\n",
       "    </tr>\n",
       "    <tr>\n",
       "      <th>1</th>\n",
       "      <td>0.0</td>\n",
       "      <td>0.0</td>\n",
       "      <td>0.0</td>\n",
       "      <td>0.0</td>\n",
       "      <td>0.0</td>\n",
       "      <td>0.0</td>\n",
       "      <td>0.0</td>\n",
       "      <td>0.0</td>\n",
       "      <td>0.0</td>\n",
       "      <td>0.0</td>\n",
       "      <td>...</td>\n",
       "      <td>0.0</td>\n",
       "      <td>0.0</td>\n",
       "      <td>0.0</td>\n",
       "      <td>0.0</td>\n",
       "      <td>0.0</td>\n",
       "      <td>0.0</td>\n",
       "      <td>0.0</td>\n",
       "      <td>0.0</td>\n",
       "      <td>0.0</td>\n",
       "      <td>0.0</td>\n",
       "    </tr>\n",
       "    <tr>\n",
       "      <th>2</th>\n",
       "      <td>0.0</td>\n",
       "      <td>0.0</td>\n",
       "      <td>0.0</td>\n",
       "      <td>0.0</td>\n",
       "      <td>0.0</td>\n",
       "      <td>0.0</td>\n",
       "      <td>0.0</td>\n",
       "      <td>0.0</td>\n",
       "      <td>0.0</td>\n",
       "      <td>0.0</td>\n",
       "      <td>...</td>\n",
       "      <td>0.0</td>\n",
       "      <td>0.0</td>\n",
       "      <td>0.0</td>\n",
       "      <td>0.0</td>\n",
       "      <td>0.0</td>\n",
       "      <td>0.0</td>\n",
       "      <td>0.0</td>\n",
       "      <td>0.0</td>\n",
       "      <td>0.0</td>\n",
       "      <td>0.0</td>\n",
       "    </tr>\n",
       "    <tr>\n",
       "      <th>3</th>\n",
       "      <td>0.0</td>\n",
       "      <td>0.0</td>\n",
       "      <td>0.0</td>\n",
       "      <td>0.0</td>\n",
       "      <td>0.0</td>\n",
       "      <td>0.0</td>\n",
       "      <td>0.0</td>\n",
       "      <td>0.0</td>\n",
       "      <td>0.0</td>\n",
       "      <td>0.0</td>\n",
       "      <td>...</td>\n",
       "      <td>0.0</td>\n",
       "      <td>0.0</td>\n",
       "      <td>0.0</td>\n",
       "      <td>0.0</td>\n",
       "      <td>0.0</td>\n",
       "      <td>0.0</td>\n",
       "      <td>0.0</td>\n",
       "      <td>0.0</td>\n",
       "      <td>0.0</td>\n",
       "      <td>0.0</td>\n",
       "    </tr>\n",
       "    <tr>\n",
       "      <th>4</th>\n",
       "      <td>0.0</td>\n",
       "      <td>0.0</td>\n",
       "      <td>0.0</td>\n",
       "      <td>0.0</td>\n",
       "      <td>0.0</td>\n",
       "      <td>0.0</td>\n",
       "      <td>0.0</td>\n",
       "      <td>0.0</td>\n",
       "      <td>0.0</td>\n",
       "      <td>0.0</td>\n",
       "      <td>...</td>\n",
       "      <td>0.0</td>\n",
       "      <td>0.0</td>\n",
       "      <td>0.0</td>\n",
       "      <td>0.0</td>\n",
       "      <td>0.0</td>\n",
       "      <td>0.0</td>\n",
       "      <td>0.0</td>\n",
       "      <td>0.0</td>\n",
       "      <td>0.0</td>\n",
       "      <td>0.0</td>\n",
       "    </tr>\n",
       "  </tbody>\n",
       "</table>\n",
       "<p>5 rows × 16018 columns</p>\n",
       "</div>"
      ],
      "text/plain": [
       "    00  000  000000000003  00045  000articles  000yrs  001  008866  009  00gb  \\\n",
       "0  0.0  0.0           0.0    0.0          0.0     0.0  0.0     0.0  0.0   0.0   \n",
       "1  0.0  0.0           0.0    0.0          0.0     0.0  0.0     0.0  0.0   0.0   \n",
       "2  0.0  0.0           0.0    0.0          0.0     0.0  0.0     0.0  0.0   0.0   \n",
       "3  0.0  0.0           0.0    0.0          0.0     0.0  0.0     0.0  0.0   0.0   \n",
       "4  0.0  0.0           0.0    0.0          0.0     0.0  0.0     0.0  0.0   0.0   \n",
       "\n",
       "   ...  zookeeper  zoom  zoombini  zoombiniland  zoombinis  zooming  zr10  \\\n",
       "0  ...        0.0   0.0       0.0           0.0        0.0      0.0   0.0   \n",
       "1  ...        0.0   0.0       0.0           0.0        0.0      0.0   0.0   \n",
       "2  ...        0.0   0.0       0.0           0.0        0.0      0.0   0.0   \n",
       "3  ...        0.0   0.0       0.0           0.0        0.0      0.0   0.0   \n",
       "4  ...        0.0   0.0       0.0           0.0        0.0      0.0   0.0   \n",
       "\n",
       "   zu3d  zunko  zuzz  \n",
       "0   0.0    0.0   0.0  \n",
       "1   0.0    0.0   0.0  \n",
       "2   0.0    0.0   0.0  \n",
       "3   0.0    0.0   0.0  \n",
       "4   0.0    0.0   0.0  \n",
       "\n",
       "[5 rows x 16018 columns]"
      ]
     },
     "execution_count": 18,
     "metadata": {},
     "output_type": "execute_result"
    }
   ],
   "source": [
    "dense.head()"
   ]
  },
  {
   "cell_type": "code",
   "execution_count": 19,
   "id": "5400c7c9",
   "metadata": {},
   "outputs": [],
   "source": [
    "df_y=df[\"verified\"]"
   ]
  },
  {
   "cell_type": "markdown",
   "id": "745aef00",
   "metadata": {},
   "source": [
    "# Label Encoding"
   ]
  },
  {
   "cell_type": "code",
   "execution_count": 20,
   "id": "f7f68b1c",
   "metadata": {},
   "outputs": [],
   "source": [
    "from sklearn.preprocessing import LabelEncoder"
   ]
  },
  {
   "cell_type": "code",
   "execution_count": 21,
   "id": "abfe05b0",
   "metadata": {},
   "outputs": [],
   "source": [
    "le=LabelEncoder()"
   ]
  },
  {
   "cell_type": "code",
   "execution_count": 22,
   "id": "0ef75212",
   "metadata": {},
   "outputs": [],
   "source": [
    "df_y_1=pd.DataFrame(df_y)"
   ]
  },
  {
   "cell_type": "code",
   "execution_count": 23,
   "id": "d763289d",
   "metadata": {},
   "outputs": [],
   "source": [
    "df_y_enc=df_y_1.apply(le.fit_transform)"
   ]
  },
  {
   "cell_type": "markdown",
   "id": "79390e62",
   "metadata": {},
   "source": [
    "# Decision Tree Classifier"
   ]
  },
  {
   "cell_type": "code",
   "execution_count": 24,
   "id": "dd223224",
   "metadata": {},
   "outputs": [],
   "source": [
    "from sklearn.tree import DecisionTreeClassifier"
   ]
  },
  {
   "cell_type": "code",
   "execution_count": 25,
   "id": "566949b3",
   "metadata": {},
   "outputs": [],
   "source": [
    "DecTree=DecisionTreeClassifier()"
   ]
  },
  {
   "cell_type": "code",
   "execution_count": 26,
   "id": "781a1a71",
   "metadata": {},
   "outputs": [],
   "source": [
    "dt_M=DecTree.fit(dense,df_y_enc)"
   ]
  },
  {
   "cell_type": "code",
   "execution_count": 27,
   "id": "f50b9dfe",
   "metadata": {},
   "outputs": [
    {
     "data": {
      "text/plain": [
       "0.9969"
      ]
     },
     "execution_count": 27,
     "metadata": {},
     "output_type": "execute_result"
    }
   ],
   "source": [
    "dt_M.score(dense,df_y_enc)"
   ]
  },
  {
   "cell_type": "code",
   "execution_count": null,
   "id": "12a56117",
   "metadata": {},
   "outputs": [],
   "source": []
  },
  {
   "cell_type": "code",
   "execution_count": null,
   "id": "21d3e468",
   "metadata": {},
   "outputs": [],
   "source": []
  }
 ],
 "metadata": {
  "kernelspec": {
   "display_name": "Python 3 (ipykernel)",
   "language": "python",
   "name": "python3"
  },
  "language_info": {
   "codemirror_mode": {
    "name": "ipython",
    "version": 3
   },
   "file_extension": ".py",
   "mimetype": "text/x-python",
   "name": "python",
   "nbconvert_exporter": "python",
   "pygments_lexer": "ipython3",
   "version": "3.11.5"
  }
 },
 "nbformat": 4,
 "nbformat_minor": 5
}
