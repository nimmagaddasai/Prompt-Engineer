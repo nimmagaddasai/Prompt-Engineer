{
 "cells": [
  {
   "cell_type": "code",
   "execution_count": 1,
   "id": "9233d0ce",
   "metadata": {},
   "outputs": [
    {
     "name": "stderr",
     "output_type": "stream",
     "text": [
      "C:\\Users\\91798\\AppData\\Local\\Temp\\ipykernel_16896\\1801455139.py:7: MatplotlibDeprecationWarning: The seaborn styles shipped by Matplotlib are deprecated since 3.6, as they no longer correspond to the styles shipped by seaborn. However, they will remain available as 'seaborn-v0_8-<style>'. Alternatively, directly use the seaborn API instead.\n",
      "  style.use('seaborn')\n"
     ]
    }
   ],
   "source": [
    "import numpy as np \n",
    "import pandas as pd\n",
    "import seaborn as sns\n",
    "from matplotlib import pyplot as plt\n",
    "from matplotlib import style\n",
    "%matplotlib inline\n",
    "style.use('seaborn')\n",
    "import warnings \n",
    "warnings.filterwarnings('ignore')"
   ]
  },
  {
   "cell_type": "markdown",
   "id": "e8ad60a7",
   "metadata": {},
   "source": [
    "# Loading Dataset"
   ]
  },
  {
   "cell_type": "code",
   "execution_count": 2,
   "id": "168d76ee",
   "metadata": {},
   "outputs": [],
   "source": [
    "df = pd.read_csv('FeedGrains.csv')"
   ]
  },
  {
   "cell_type": "code",
   "execution_count": 3,
   "id": "785ab21e",
   "metadata": {},
   "outputs": [
    {
     "data": {
      "text/html": [
       "<div>\n",
       "<style scoped>\n",
       "    .dataframe tbody tr th:only-of-type {\n",
       "        vertical-align: middle;\n",
       "    }\n",
       "\n",
       "    .dataframe tbody tr th {\n",
       "        vertical-align: top;\n",
       "    }\n",
       "\n",
       "    .dataframe thead th {\n",
       "        text-align: right;\n",
       "    }\n",
       "</style>\n",
       "<table border=\"1\" class=\"dataframe\">\n",
       "  <thead>\n",
       "    <tr style=\"text-align: right;\">\n",
       "      <th></th>\n",
       "      <th>SC_Group_ID</th>\n",
       "      <th>SC_Group_Desc</th>\n",
       "      <th>SC_GroupCommod_ID</th>\n",
       "      <th>SC_GroupCommod_Desc</th>\n",
       "      <th>SC_Geography_ID</th>\n",
       "      <th>SortOrder</th>\n",
       "      <th>SC_GeographyIndented_Desc</th>\n",
       "      <th>SC_Commodity_ID</th>\n",
       "      <th>SC_Commodity_Desc</th>\n",
       "      <th>SC_Attribute_ID</th>\n",
       "      <th>SC_Attribute_Desc</th>\n",
       "      <th>SC_Unit_ID</th>\n",
       "      <th>SC_Unit_Desc</th>\n",
       "      <th>Year_ID</th>\n",
       "      <th>SC_Frequency_ID</th>\n",
       "      <th>SC_Frequency_Desc</th>\n",
       "      <th>Timeperiod_ID</th>\n",
       "      <th>Timeperiod_Desc</th>\n",
       "      <th>Amount</th>\n",
       "    </tr>\n",
       "  </thead>\n",
       "  <tbody>\n",
       "    <tr>\n",
       "      <th>0</th>\n",
       "      <td>2</td>\n",
       "      <td>Supply and use</td>\n",
       "      <td>9.0</td>\n",
       "      <td>Barley</td>\n",
       "      <td>1</td>\n",
       "      <td>0.80</td>\n",
       "      <td>United States</td>\n",
       "      <td>1</td>\n",
       "      <td>Barley</td>\n",
       "      <td>1</td>\n",
       "      <td>Planted acreage</td>\n",
       "      <td>2</td>\n",
       "      <td>Million acres</td>\n",
       "      <td>1926</td>\n",
       "      <td>3</td>\n",
       "      <td>Annual</td>\n",
       "      <td>69</td>\n",
       "      <td>Commodity Market Year</td>\n",
       "      <td>8.796000</td>\n",
       "    </tr>\n",
       "    <tr>\n",
       "      <th>1</th>\n",
       "      <td>2</td>\n",
       "      <td>Supply and use</td>\n",
       "      <td>9.0</td>\n",
       "      <td>Barley</td>\n",
       "      <td>1</td>\n",
       "      <td>0.80</td>\n",
       "      <td>United States</td>\n",
       "      <td>1</td>\n",
       "      <td>Barley</td>\n",
       "      <td>1</td>\n",
       "      <td>Planted acreage</td>\n",
       "      <td>2</td>\n",
       "      <td>Million acres</td>\n",
       "      <td>1927</td>\n",
       "      <td>3</td>\n",
       "      <td>Annual</td>\n",
       "      <td>69</td>\n",
       "      <td>Commodity Market Year</td>\n",
       "      <td>9.513000</td>\n",
       "    </tr>\n",
       "    <tr>\n",
       "      <th>2</th>\n",
       "      <td>2</td>\n",
       "      <td>Supply and use</td>\n",
       "      <td>9.0</td>\n",
       "      <td>Barley</td>\n",
       "      <td>1</td>\n",
       "      <td>0.80</td>\n",
       "      <td>United States</td>\n",
       "      <td>1</td>\n",
       "      <td>Barley</td>\n",
       "      <td>1</td>\n",
       "      <td>Planted acreage</td>\n",
       "      <td>2</td>\n",
       "      <td>Million acres</td>\n",
       "      <td>1928</td>\n",
       "      <td>3</td>\n",
       "      <td>Annual</td>\n",
       "      <td>69</td>\n",
       "      <td>Commodity Market Year</td>\n",
       "      <td>12.828000</td>\n",
       "    </tr>\n",
       "    <tr>\n",
       "      <th>3</th>\n",
       "      <td>2</td>\n",
       "      <td>Supply and use</td>\n",
       "      <td>9.0</td>\n",
       "      <td>Barley</td>\n",
       "      <td>1</td>\n",
       "      <td>0.80</td>\n",
       "      <td>United States</td>\n",
       "      <td>1</td>\n",
       "      <td>Barley</td>\n",
       "      <td>1</td>\n",
       "      <td>Planted acreage</td>\n",
       "      <td>2</td>\n",
       "      <td>Million acres</td>\n",
       "      <td>1929</td>\n",
       "      <td>3</td>\n",
       "      <td>Annual</td>\n",
       "      <td>69</td>\n",
       "      <td>Commodity Market Year</td>\n",
       "      <td>14.703000</td>\n",
       "    </tr>\n",
       "    <tr>\n",
       "      <th>4</th>\n",
       "      <td>2</td>\n",
       "      <td>Supply and use</td>\n",
       "      <td>9.0</td>\n",
       "      <td>Barley</td>\n",
       "      <td>1</td>\n",
       "      <td>0.80</td>\n",
       "      <td>United States</td>\n",
       "      <td>1</td>\n",
       "      <td>Barley</td>\n",
       "      <td>1</td>\n",
       "      <td>Planted acreage</td>\n",
       "      <td>2</td>\n",
       "      <td>Million acres</td>\n",
       "      <td>1930</td>\n",
       "      <td>3</td>\n",
       "      <td>Annual</td>\n",
       "      <td>69</td>\n",
       "      <td>Commodity Market Year</td>\n",
       "      <td>13.581000</td>\n",
       "    </tr>\n",
       "    <tr>\n",
       "      <th>...</th>\n",
       "      <td>...</td>\n",
       "      <td>...</td>\n",
       "      <td>...</td>\n",
       "      <td>...</td>\n",
       "      <td>...</td>\n",
       "      <td>...</td>\n",
       "      <td>...</td>\n",
       "      <td>...</td>\n",
       "      <td>...</td>\n",
       "      <td>...</td>\n",
       "      <td>...</td>\n",
       "      <td>...</td>\n",
       "      <td>...</td>\n",
       "      <td>...</td>\n",
       "      <td>...</td>\n",
       "      <td>...</td>\n",
       "      <td>...</td>\n",
       "      <td>...</td>\n",
       "      <td>...</td>\n",
       "    </tr>\n",
       "    <tr>\n",
       "      <th>505977</th>\n",
       "      <td>3</td>\n",
       "      <td>Exports and imports</td>\n",
       "      <td>9.0</td>\n",
       "      <td>Barley</td>\n",
       "      <td>300</td>\n",
       "      <td>1.02</td>\n",
       "      <td>Caribbean Basin (CBERA)</td>\n",
       "      <td>77</td>\n",
       "      <td>Barley products</td>\n",
       "      <td>19</td>\n",
       "      <td>Imports, to U.S. from specified source</td>\n",
       "      <td>7</td>\n",
       "      <td>1,000 metric tons</td>\n",
       "      <td>2023</td>\n",
       "      <td>1</td>\n",
       "      <td>Monthly</td>\n",
       "      <td>5</td>\n",
       "      <td>May</td>\n",
       "      <td>0.004767</td>\n",
       "    </tr>\n",
       "    <tr>\n",
       "      <th>505978</th>\n",
       "      <td>3</td>\n",
       "      <td>Exports and imports</td>\n",
       "      <td>9.0</td>\n",
       "      <td>Barley</td>\n",
       "      <td>300</td>\n",
       "      <td>1.02</td>\n",
       "      <td>Caribbean Basin (CBERA)</td>\n",
       "      <td>77</td>\n",
       "      <td>Barley products</td>\n",
       "      <td>19</td>\n",
       "      <td>Imports, to U.S. from specified source</td>\n",
       "      <td>7</td>\n",
       "      <td>1,000 metric tons</td>\n",
       "      <td>2023</td>\n",
       "      <td>1</td>\n",
       "      <td>Monthly</td>\n",
       "      <td>6</td>\n",
       "      <td>Jun</td>\n",
       "      <td>0.060129</td>\n",
       "    </tr>\n",
       "    <tr>\n",
       "      <th>505979</th>\n",
       "      <td>3</td>\n",
       "      <td>Exports and imports</td>\n",
       "      <td>9.0</td>\n",
       "      <td>Barley</td>\n",
       "      <td>300</td>\n",
       "      <td>1.02</td>\n",
       "      <td>Caribbean Basin (CBERA)</td>\n",
       "      <td>77</td>\n",
       "      <td>Barley products</td>\n",
       "      <td>19</td>\n",
       "      <td>Imports, to U.S. from specified source</td>\n",
       "      <td>7</td>\n",
       "      <td>1,000 metric tons</td>\n",
       "      <td>2023</td>\n",
       "      <td>1</td>\n",
       "      <td>Monthly</td>\n",
       "      <td>7</td>\n",
       "      <td>Jul</td>\n",
       "      <td>0.021359</td>\n",
       "    </tr>\n",
       "    <tr>\n",
       "      <th>505980</th>\n",
       "      <td>3</td>\n",
       "      <td>Exports and imports</td>\n",
       "      <td>9.0</td>\n",
       "      <td>Barley</td>\n",
       "      <td>300</td>\n",
       "      <td>1.02</td>\n",
       "      <td>Caribbean Basin (CBERA)</td>\n",
       "      <td>77</td>\n",
       "      <td>Barley products</td>\n",
       "      <td>19</td>\n",
       "      <td>Imports, to U.S. from specified source</td>\n",
       "      <td>7</td>\n",
       "      <td>1,000 metric tons</td>\n",
       "      <td>2023</td>\n",
       "      <td>1</td>\n",
       "      <td>Monthly</td>\n",
       "      <td>8</td>\n",
       "      <td>Aug</td>\n",
       "      <td>0.007153</td>\n",
       "    </tr>\n",
       "    <tr>\n",
       "      <th>505981</th>\n",
       "      <td>3</td>\n",
       "      <td>Exports and imports</td>\n",
       "      <td>9.0</td>\n",
       "      <td>Barley</td>\n",
       "      <td>300</td>\n",
       "      <td>1.02</td>\n",
       "      <td>Caribbean Basin (CBERA)</td>\n",
       "      <td>77</td>\n",
       "      <td>Barley products</td>\n",
       "      <td>19</td>\n",
       "      <td>Imports, to U.S. from specified source</td>\n",
       "      <td>7</td>\n",
       "      <td>1,000 metric tons</td>\n",
       "      <td>2023</td>\n",
       "      <td>3</td>\n",
       "      <td>Annual</td>\n",
       "      <td>19</td>\n",
       "      <td>MY Jun-May</td>\n",
       "      <td>0.088641</td>\n",
       "    </tr>\n",
       "  </tbody>\n",
       "</table>\n",
       "<p>505982 rows × 19 columns</p>\n",
       "</div>"
      ],
      "text/plain": [
       "        SC_Group_ID        SC_Group_Desc  SC_GroupCommod_ID  \\\n",
       "0                 2       Supply and use                9.0   \n",
       "1                 2       Supply and use                9.0   \n",
       "2                 2       Supply and use                9.0   \n",
       "3                 2       Supply and use                9.0   \n",
       "4                 2       Supply and use                9.0   \n",
       "...             ...                  ...                ...   \n",
       "505977            3  Exports and imports                9.0   \n",
       "505978            3  Exports and imports                9.0   \n",
       "505979            3  Exports and imports                9.0   \n",
       "505980            3  Exports and imports                9.0   \n",
       "505981            3  Exports and imports                9.0   \n",
       "\n",
       "       SC_GroupCommod_Desc  SC_Geography_ID  SortOrder  \\\n",
       "0                   Barley                1       0.80   \n",
       "1                   Barley                1       0.80   \n",
       "2                   Barley                1       0.80   \n",
       "3                   Barley                1       0.80   \n",
       "4                   Barley                1       0.80   \n",
       "...                    ...              ...        ...   \n",
       "505977              Barley              300       1.02   \n",
       "505978              Barley              300       1.02   \n",
       "505979              Barley              300       1.02   \n",
       "505980              Barley              300       1.02   \n",
       "505981              Barley              300       1.02   \n",
       "\n",
       "        SC_GeographyIndented_Desc  SC_Commodity_ID SC_Commodity_Desc  \\\n",
       "0                   United States                1            Barley   \n",
       "1                   United States                1            Barley   \n",
       "2                   United States                1            Barley   \n",
       "3                   United States                1            Barley   \n",
       "4                   United States                1            Barley   \n",
       "...                           ...              ...               ...   \n",
       "505977    Caribbean Basin (CBERA)               77   Barley products   \n",
       "505978    Caribbean Basin (CBERA)               77   Barley products   \n",
       "505979    Caribbean Basin (CBERA)               77   Barley products   \n",
       "505980    Caribbean Basin (CBERA)               77   Barley products   \n",
       "505981    Caribbean Basin (CBERA)               77   Barley products   \n",
       "\n",
       "        SC_Attribute_ID                       SC_Attribute_Desc  SC_Unit_ID  \\\n",
       "0                     1                         Planted acreage           2   \n",
       "1                     1                         Planted acreage           2   \n",
       "2                     1                         Planted acreage           2   \n",
       "3                     1                         Planted acreage           2   \n",
       "4                     1                         Planted acreage           2   \n",
       "...                 ...                                     ...         ...   \n",
       "505977               19  Imports, to U.S. from specified source           7   \n",
       "505978               19  Imports, to U.S. from specified source           7   \n",
       "505979               19  Imports, to U.S. from specified source           7   \n",
       "505980               19  Imports, to U.S. from specified source           7   \n",
       "505981               19  Imports, to U.S. from specified source           7   \n",
       "\n",
       "             SC_Unit_Desc  Year_ID  SC_Frequency_ID SC_Frequency_Desc  \\\n",
       "0           Million acres     1926                3            Annual   \n",
       "1           Million acres     1927                3            Annual   \n",
       "2           Million acres     1928                3            Annual   \n",
       "3           Million acres     1929                3            Annual   \n",
       "4           Million acres     1930                3            Annual   \n",
       "...                   ...      ...              ...               ...   \n",
       "505977  1,000 metric tons     2023                1           Monthly   \n",
       "505978  1,000 metric tons     2023                1           Monthly   \n",
       "505979  1,000 metric tons     2023                1           Monthly   \n",
       "505980  1,000 metric tons     2023                1           Monthly   \n",
       "505981  1,000 metric tons     2023                3            Annual   \n",
       "\n",
       "        Timeperiod_ID        Timeperiod_Desc     Amount  \n",
       "0                  69  Commodity Market Year   8.796000  \n",
       "1                  69  Commodity Market Year   9.513000  \n",
       "2                  69  Commodity Market Year  12.828000  \n",
       "3                  69  Commodity Market Year  14.703000  \n",
       "4                  69  Commodity Market Year  13.581000  \n",
       "...               ...                    ...        ...  \n",
       "505977              5                    May   0.004767  \n",
       "505978              6                    Jun   0.060129  \n",
       "505979              7                    Jul   0.021359  \n",
       "505980              8                    Aug   0.007153  \n",
       "505981             19             MY Jun-May   0.088641  \n",
       "\n",
       "[505982 rows x 19 columns]"
      ]
     },
     "execution_count": 3,
     "metadata": {},
     "output_type": "execute_result"
    }
   ],
   "source": [
    "df"
   ]
  },
  {
   "cell_type": "code",
   "execution_count": 4,
   "id": "3da4aa4d",
   "metadata": {},
   "outputs": [
    {
     "name": "stdout",
     "output_type": "stream",
     "text": [
      "<class 'pandas.core.frame.DataFrame'>\n",
      "RangeIndex: 505982 entries, 0 to 505981\n",
      "Data columns (total 19 columns):\n",
      " #   Column                     Non-Null Count   Dtype  \n",
      "---  ------                     --------------   -----  \n",
      " 0   SC_Group_ID                505982 non-null  int64  \n",
      " 1   SC_Group_Desc              505982 non-null  object \n",
      " 2   SC_GroupCommod_ID          498700 non-null  float64\n",
      " 3   SC_GroupCommod_Desc        498700 non-null  object \n",
      " 4   SC_Geography_ID            505982 non-null  int64  \n",
      " 5   SortOrder                  505982 non-null  float64\n",
      " 6   SC_GeographyIndented_Desc  505982 non-null  object \n",
      " 7   SC_Commodity_ID            505982 non-null  int64  \n",
      " 8   SC_Commodity_Desc          505982 non-null  object \n",
      " 9   SC_Attribute_ID            505982 non-null  int64  \n",
      " 10  SC_Attribute_Desc          505982 non-null  object \n",
      " 11  SC_Unit_ID                 505982 non-null  int64  \n",
      " 12  SC_Unit_Desc               505982 non-null  object \n",
      " 13  Year_ID                    505982 non-null  int64  \n",
      " 14  SC_Frequency_ID            505982 non-null  int64  \n",
      " 15  SC_Frequency_Desc          505982 non-null  object \n",
      " 16  Timeperiod_ID              505982 non-null  int64  \n",
      " 17  Timeperiod_Desc            505982 non-null  object \n",
      " 18  Amount                     505982 non-null  float64\n",
      "dtypes: float64(3), int64(8), object(8)\n",
      "memory usage: 73.3+ MB\n"
     ]
    }
   ],
   "source": [
    "df.info()"
   ]
  },
  {
   "cell_type": "markdown",
   "id": "4a84ca5c",
   "metadata": {},
   "source": [
    "# Dealing with Duplicate Values"
   ]
  },
  {
   "cell_type": "code",
   "execution_count": 5,
   "id": "2ec774f9",
   "metadata": {},
   "outputs": [
    {
     "data": {
      "text/plain": [
       "0"
      ]
     },
     "execution_count": 5,
     "metadata": {},
     "output_type": "execute_result"
    }
   ],
   "source": [
    "df.duplicated().sum()"
   ]
  },
  {
   "cell_type": "markdown",
   "id": "9287e6bf",
   "metadata": {},
   "source": [
    "# Splitting Numerical and Ctegorical Columns"
   ]
  },
  {
   "cell_type": "code",
   "execution_count": 6,
   "id": "d2acfed5",
   "metadata": {},
   "outputs": [],
   "source": [
    "df_num = df.select_dtypes(include = [np.number])\n",
    "df_cat = df.select_dtypes(include = ['object'])"
   ]
  },
  {
   "cell_type": "markdown",
   "id": "95152f13",
   "metadata": {},
   "source": [
    "# Dealing with Null Values"
   ]
  },
  {
   "cell_type": "code",
   "execution_count": 7,
   "id": "07523062",
   "metadata": {},
   "outputs": [
    {
     "data": {
      "text/plain": [
       "SC_Group_ID             0\n",
       "SC_GroupCommod_ID    7282\n",
       "SC_Geography_ID         0\n",
       "SortOrder               0\n",
       "SC_Commodity_ID         0\n",
       "SC_Attribute_ID         0\n",
       "SC_Unit_ID              0\n",
       "Year_ID                 0\n",
       "SC_Frequency_ID         0\n",
       "Timeperiod_ID           0\n",
       "Amount                  0\n",
       "dtype: int64"
      ]
     },
     "execution_count": 7,
     "metadata": {},
     "output_type": "execute_result"
    }
   ],
   "source": [
    "df_num.isnull().sum()"
   ]
  },
  {
   "cell_type": "code",
   "execution_count": 8,
   "id": "23834198",
   "metadata": {},
   "outputs": [],
   "source": [
    "df_num.SC_GroupCommod_ID.fillna(df.SC_GroupCommod_ID.value_counts().idxmax(),inplace = True)"
   ]
  },
  {
   "cell_type": "code",
   "execution_count": 9,
   "id": "b12472ee",
   "metadata": {},
   "outputs": [
    {
     "data": {
      "text/plain": [
       "SC_Group_ID          0\n",
       "SC_GroupCommod_ID    0\n",
       "SC_Geography_ID      0\n",
       "SortOrder            0\n",
       "SC_Commodity_ID      0\n",
       "SC_Attribute_ID      0\n",
       "SC_Unit_ID           0\n",
       "Year_ID              0\n",
       "SC_Frequency_ID      0\n",
       "Timeperiod_ID        0\n",
       "Amount               0\n",
       "dtype: int64"
      ]
     },
     "execution_count": 9,
     "metadata": {},
     "output_type": "execute_result"
    }
   ],
   "source": [
    "df_num.isnull().sum()"
   ]
  },
  {
   "cell_type": "markdown",
   "id": "aad23259",
   "metadata": {},
   "source": [
    "# Plotting Boxplot for all Numerical Columns"
   ]
  },
  {
   "cell_type": "code",
   "execution_count": 10,
   "id": "8c619aa5",
   "metadata": {},
   "outputs": [
    {
     "data": {
      "image/png": "[encoded data removed]",
      "text/plain": [
       "<Figure size 900x400 with 1 Axes>"
      ]
     },
     "metadata": {},
     "output_type": "display_data"
    }
   ],
   "source": [
    "plt.figure(figsize = (9,4), dpi = 100)\n",
    "sns.boxplot(data = df_num)\n",
    "plt.xticks(rotation = 70)\n",
    "plt.show()"
   ]
  },
  {
   "cell_type": "markdown",
   "id": "e41cf544",
   "metadata": {},
   "source": [
    "# Removing the datapoints which are more than 75% and less than 25%"
   ]
  },
  {
   "cell_type": "code",
   "execution_count": 11,
   "id": "5d723e8a",
   "metadata": {},
   "outputs": [
    {
     "data": {
      "text/plain": [
       "count    5.059820e+05\n",
       "mean     7.188182e+05\n",
       "std      2.458086e+07\n",
       "min     -1.310973e+03\n",
       "25%      6.612301e-02\n",
       "50%      1.664000e+00\n",
       "75%      3.544414e+01\n",
       "max      2.872986e+09\n",
       "Name: Amount, dtype: float64"
      ]
     },
     "execution_count": 11,
     "metadata": {},
     "output_type": "execute_result"
    }
   ],
   "source": [
    "df_num.Amount.describe()"
   ]
  },
  {
   "cell_type": "markdown",
   "id": "77daa985",
   "metadata": {},
   "source": [
    "# Plotting Boxplot before removal"
   ]
  },
  {
   "cell_type": "code",
   "execution_count": 12,
   "id": "131bc385",
   "metadata": {},
   "outputs": [
    {
     "data": {
      "text/plain": [
       "<Axes: ylabel='Amount'>"
      ]
     },
     "execution_count": 12,
     "metadata": {},
     "output_type": "execute_result"
    },
    {
     "data": {
      "image/png": "[encoded data removed]",
      "text/plain": [
       "<Figure size 800x550 with 1 Axes>"
      ]
     },
     "metadata": {},
     "output_type": "display_data"
    }
   ],
   "source": [
    "sns.boxplot(y = df_num.Amount)"
   ]
  },
  {
   "cell_type": "code",
   "execution_count": 13,
   "id": "4d3a28f9",
   "metadata": {},
   "outputs": [],
   "source": [
    "df_a = df_num[(df_num.Amount>0.066)&(df_num.Amount<35.444)]"
   ]
  },
  {
   "cell_type": "markdown",
   "id": "59e31919",
   "metadata": {},
   "source": [
    "# Plotting Boxplot after removal"
   ]
  },
  {
   "cell_type": "code",
   "execution_count": 14,
   "id": "28158c23",
   "metadata": {},
   "outputs": [
    {
     "data": {
      "text/plain": [
       "<Axes: ylabel='Amount'>"
      ]
     },
     "execution_count": 14,
     "metadata": {},
     "output_type": "execute_result"
    },
    {
     "data": {
      "image/png": "[encoded data removed]",
      "text/plain": [
       "<Figure size 800x550 with 1 Axes>"
      ]
     },
     "metadata": {},
     "output_type": "display_data"
    }
   ],
   "source": [
    "sns.boxplot(y = df_a.Amount)"
   ]
  },
  {
   "cell_type": "markdown",
   "id": "e938cf21",
   "metadata": {},
   "source": [
    "# MinMax Scaler"
   ]
  },
  {
   "cell_type": "code",
   "execution_count": 15,
   "id": "8895bf47",
   "metadata": {},
   "outputs": [],
   "source": [
    "from sklearn.preprocessing import MinMaxScaler\n",
    "scaler = MinMaxScaler()\n",
    "sc=scaler.fit(df_a)\n",
    "df_scaler= sc.fit_transform(df_a)"
   ]
  },
  {
   "cell_type": "code",
   "execution_count": 16,
   "id": "05e5497a",
   "metadata": {},
   "outputs": [
    {
     "data": {
      "text/plain": [
       "<Axes: >"
      ]
     },
     "execution_count": 16,
     "metadata": {},
     "output_type": "execute_result"
    },
    {
     "data": {
      "image/png": "[encoded data removed]",
      "text/plain": [
       "<Figure size 800x550 with 1 Axes>"
      ]
     },
     "metadata": {},
     "output_type": "display_data"
    }
   ],
   "source": [
    "sns.boxplot(data=df_scaler)"
   ]
  },
  {
   "cell_type": "markdown",
   "id": "d7585c15",
   "metadata": {},
   "source": [
    "# Categorical Values"
   ]
  },
  {
   "cell_type": "code",
   "execution_count": 17,
   "id": "e8a6ff81",
   "metadata": {},
   "outputs": [
    {
     "data": {
      "text/html": [
       "<div>\n",
       "<style scoped>\n",
       "    .dataframe tbody tr th:only-of-type {\n",
       "        vertical-align: middle;\n",
       "    }\n",
       "\n",
       "    .dataframe tbody tr th {\n",
       "        vertical-align: top;\n",
       "    }\n",
       "\n",
       "    .dataframe thead th {\n",
       "        text-align: right;\n",
       "    }\n",
       "</style>\n",
       "<table border=\"1\" class=\"dataframe\">\n",
       "  <thead>\n",
       "    <tr style=\"text-align: right;\">\n",
       "      <th></th>\n",
       "      <th>SC_Group_Desc</th>\n",
       "      <th>SC_GroupCommod_Desc</th>\n",
       "      <th>SC_GeographyIndented_Desc</th>\n",
       "      <th>SC_Commodity_Desc</th>\n",
       "      <th>SC_Attribute_Desc</th>\n",
       "      <th>SC_Unit_Desc</th>\n",
       "      <th>SC_Frequency_Desc</th>\n",
       "      <th>Timeperiod_Desc</th>\n",
       "    </tr>\n",
       "  </thead>\n",
       "  <tbody>\n",
       "    <tr>\n",
       "      <th>0</th>\n",
       "      <td>Supply and use</td>\n",
       "      <td>Barley</td>\n",
       "      <td>United States</td>\n",
       "      <td>Barley</td>\n",
       "      <td>Planted acreage</td>\n",
       "      <td>Million acres</td>\n",
       "      <td>Annual</td>\n",
       "      <td>Commodity Market Year</td>\n",
       "    </tr>\n",
       "    <tr>\n",
       "      <th>1</th>\n",
       "      <td>Supply and use</td>\n",
       "      <td>Barley</td>\n",
       "      <td>United States</td>\n",
       "      <td>Barley</td>\n",
       "      <td>Planted acreage</td>\n",
       "      <td>Million acres</td>\n",
       "      <td>Annual</td>\n",
       "      <td>Commodity Market Year</td>\n",
       "    </tr>\n",
       "    <tr>\n",
       "      <th>2</th>\n",
       "      <td>Supply and use</td>\n",
       "      <td>Barley</td>\n",
       "      <td>United States</td>\n",
       "      <td>Barley</td>\n",
       "      <td>Planted acreage</td>\n",
       "      <td>Million acres</td>\n",
       "      <td>Annual</td>\n",
       "      <td>Commodity Market Year</td>\n",
       "    </tr>\n",
       "    <tr>\n",
       "      <th>3</th>\n",
       "      <td>Supply and use</td>\n",
       "      <td>Barley</td>\n",
       "      <td>United States</td>\n",
       "      <td>Barley</td>\n",
       "      <td>Planted acreage</td>\n",
       "      <td>Million acres</td>\n",
       "      <td>Annual</td>\n",
       "      <td>Commodity Market Year</td>\n",
       "    </tr>\n",
       "    <tr>\n",
       "      <th>4</th>\n",
       "      <td>Supply and use</td>\n",
       "      <td>Barley</td>\n",
       "      <td>United States</td>\n",
       "      <td>Barley</td>\n",
       "      <td>Planted acreage</td>\n",
       "      <td>Million acres</td>\n",
       "      <td>Annual</td>\n",
       "      <td>Commodity Market Year</td>\n",
       "    </tr>\n",
       "    <tr>\n",
       "      <th>...</th>\n",
       "      <td>...</td>\n",
       "      <td>...</td>\n",
       "      <td>...</td>\n",
       "      <td>...</td>\n",
       "      <td>...</td>\n",
       "      <td>...</td>\n",
       "      <td>...</td>\n",
       "      <td>...</td>\n",
       "    </tr>\n",
       "    <tr>\n",
       "      <th>505977</th>\n",
       "      <td>Exports and imports</td>\n",
       "      <td>Barley</td>\n",
       "      <td>Caribbean Basin (CBERA)</td>\n",
       "      <td>Barley products</td>\n",
       "      <td>Imports, to U.S. from specified source</td>\n",
       "      <td>1,000 metric tons</td>\n",
       "      <td>Monthly</td>\n",
       "      <td>May</td>\n",
       "    </tr>\n",
       "    <tr>\n",
       "      <th>505978</th>\n",
       "      <td>Exports and imports</td>\n",
       "      <td>Barley</td>\n",
       "      <td>Caribbean Basin (CBERA)</td>\n",
       "      <td>Barley products</td>\n",
       "      <td>Imports, to U.S. from specified source</td>\n",
       "      <td>1,000 metric tons</td>\n",
       "      <td>Monthly</td>\n",
       "      <td>Jun</td>\n",
       "    </tr>\n",
       "    <tr>\n",
       "      <th>505979</th>\n",
       "      <td>Exports and imports</td>\n",
       "      <td>Barley</td>\n",
       "      <td>Caribbean Basin (CBERA)</td>\n",
       "      <td>Barley products</td>\n",
       "      <td>Imports, to U.S. from specified source</td>\n",
       "      <td>1,000 metric tons</td>\n",
       "      <td>Monthly</td>\n",
       "      <td>Jul</td>\n",
       "    </tr>\n",
       "    <tr>\n",
       "      <th>505980</th>\n",
       "      <td>Exports and imports</td>\n",
       "      <td>Barley</td>\n",
       "      <td>Caribbean Basin (CBERA)</td>\n",
       "      <td>Barley products</td>\n",
       "      <td>Imports, to U.S. from specified source</td>\n",
       "      <td>1,000 metric tons</td>\n",
       "      <td>Monthly</td>\n",
       "      <td>Aug</td>\n",
       "    </tr>\n",
       "    <tr>\n",
       "      <th>505981</th>\n",
       "      <td>Exports and imports</td>\n",
       "      <td>Barley</td>\n",
       "      <td>Caribbean Basin (CBERA)</td>\n",
       "      <td>Barley products</td>\n",
       "      <td>Imports, to U.S. from specified source</td>\n",
       "      <td>1,000 metric tons</td>\n",
       "      <td>Annual</td>\n",
       "      <td>MY Jun-May</td>\n",
       "    </tr>\n",
       "  </tbody>\n",
       "</table>\n",
       "<p>505982 rows × 8 columns</p>\n",
       "</div>"
      ],
      "text/plain": [
       "              SC_Group_Desc SC_GroupCommod_Desc  SC_GeographyIndented_Desc  \\\n",
       "0            Supply and use              Barley              United States   \n",
       "1            Supply and use              Barley              United States   \n",
       "2            Supply and use              Barley              United States   \n",
       "3            Supply and use              Barley              United States   \n",
       "4            Supply and use              Barley              United States   \n",
       "...                     ...                 ...                        ...   \n",
       "505977  Exports and imports              Barley    Caribbean Basin (CBERA)   \n",
       "505978  Exports and imports              Barley    Caribbean Basin (CBERA)   \n",
       "505979  Exports and imports              Barley    Caribbean Basin (CBERA)   \n",
       "505980  Exports and imports              Barley    Caribbean Basin (CBERA)   \n",
       "505981  Exports and imports              Barley    Caribbean Basin (CBERA)   \n",
       "\n",
       "       SC_Commodity_Desc                       SC_Attribute_Desc  \\\n",
       "0                 Barley                         Planted acreage   \n",
       "1                 Barley                         Planted acreage   \n",
       "2                 Barley                         Planted acreage   \n",
       "3                 Barley                         Planted acreage   \n",
       "4                 Barley                         Planted acreage   \n",
       "...                  ...                                     ...   \n",
       "505977   Barley products  Imports, to U.S. from specified source   \n",
       "505978   Barley products  Imports, to U.S. from specified source   \n",
       "505979   Barley products  Imports, to U.S. from specified source   \n",
       "505980   Barley products  Imports, to U.S. from specified source   \n",
       "505981   Barley products  Imports, to U.S. from specified source   \n",
       "\n",
       "             SC_Unit_Desc SC_Frequency_Desc        Timeperiod_Desc  \n",
       "0           Million acres            Annual  Commodity Market Year  \n",
       "1           Million acres            Annual  Commodity Market Year  \n",
       "2           Million acres            Annual  Commodity Market Year  \n",
       "3           Million acres            Annual  Commodity Market Year  \n",
       "4           Million acres            Annual  Commodity Market Year  \n",
       "...                   ...               ...                    ...  \n",
       "505977  1,000 metric tons           Monthly                    May  \n",
       "505978  1,000 metric tons           Monthly                    Jun  \n",
       "505979  1,000 metric tons           Monthly                    Jul  \n",
       "505980  1,000 metric tons           Monthly                    Aug  \n",
       "505981  1,000 metric tons            Annual             MY Jun-May  \n",
       "\n",
       "[505982 rows x 8 columns]"
      ]
     },
     "execution_count": 17,
     "metadata": {},
     "output_type": "execute_result"
    }
   ],
   "source": [
    "df_cat"
   ]
  },
  {
   "cell_type": "markdown",
   "id": "db1fe3c8",
   "metadata": {},
   "source": [
    "# Dealing with Null Values"
   ]
  },
  {
   "cell_type": "code",
   "execution_count": 18,
   "id": "8d0630ea",
   "metadata": {},
   "outputs": [
    {
     "data": {
      "text/plain": [
       "SC_Group_Desc                   0\n",
       "SC_GroupCommod_Desc          7282\n",
       "SC_GeographyIndented_Desc       0\n",
       "SC_Commodity_Desc               0\n",
       "SC_Attribute_Desc               0\n",
       "SC_Unit_Desc                    0\n",
       "SC_Frequency_Desc               0\n",
       "Timeperiod_Desc                 0\n",
       "dtype: int64"
      ]
     },
     "execution_count": 18,
     "metadata": {},
     "output_type": "execute_result"
    }
   ],
   "source": [
    "df_cat.isnull().sum()"
   ]
  },
  {
   "cell_type": "code",
   "execution_count": 19,
   "id": "99c95b79",
   "metadata": {},
   "outputs": [],
   "source": [
    "df_cat.fillna(df_cat.SC_GroupCommod_Desc.value_counts().idxmax(),inplace = True)"
   ]
  },
  {
   "cell_type": "code",
   "execution_count": 20,
   "id": "2ab61abe",
   "metadata": {},
   "outputs": [
    {
     "data": {
      "text/plain": [
       "SC_Group_Desc                0\n",
       "SC_GroupCommod_Desc          0\n",
       "SC_GeographyIndented_Desc    0\n",
       "SC_Commodity_Desc            0\n",
       "SC_Attribute_Desc            0\n",
       "SC_Unit_Desc                 0\n",
       "SC_Frequency_Desc            0\n",
       "Timeperiod_Desc              0\n",
       "dtype: int64"
      ]
     },
     "execution_count": 20,
     "metadata": {},
     "output_type": "execute_result"
    }
   ],
   "source": [
    "df_cat.isnull().sum()"
   ]
  },
  {
   "cell_type": "markdown",
   "id": "d13f966c",
   "metadata": {},
   "source": [
    "# Label Encoding"
   ]
  },
  {
   "cell_type": "code",
   "execution_count": 21,
   "id": "1ad49662",
   "metadata": {},
   "outputs": [],
   "source": [
    "from sklearn.preprocessing import LabelEncoder\n",
    "encoder = LabelEncoder()\n",
    "df_cat=df_cat.apply(encoder.fit_transform)"
   ]
  },
  {
   "cell_type": "code",
   "execution_count": 22,
   "id": "29530199",
   "metadata": {},
   "outputs": [
    {
     "data": {
      "text/html": [
       "<div>\n",
       "<style scoped>\n",
       "    .dataframe tbody tr th:only-of-type {\n",
       "        vertical-align: middle;\n",
       "    }\n",
       "\n",
       "    .dataframe tbody tr th {\n",
       "        vertical-align: top;\n",
       "    }\n",
       "\n",
       "    .dataframe thead th {\n",
       "        text-align: right;\n",
       "    }\n",
       "</style>\n",
       "<table border=\"1\" class=\"dataframe\">\n",
       "  <thead>\n",
       "    <tr style=\"text-align: right;\">\n",
       "      <th></th>\n",
       "      <th>SC_Group_Desc</th>\n",
       "      <th>SC_GroupCommod_Desc</th>\n",
       "      <th>SC_GeographyIndented_Desc</th>\n",
       "      <th>SC_Commodity_Desc</th>\n",
       "      <th>SC_Attribute_Desc</th>\n",
       "      <th>SC_Unit_Desc</th>\n",
       "      <th>SC_Frequency_Desc</th>\n",
       "      <th>Timeperiod_Desc</th>\n",
       "    </tr>\n",
       "  </thead>\n",
       "  <tbody>\n",
       "    <tr>\n",
       "      <th>0</th>\n",
       "      <td>5</td>\n",
       "      <td>1</td>\n",
       "      <td>270</td>\n",
       "      <td>3</td>\n",
       "      <td>24</td>\n",
       "      <td>13</td>\n",
       "      <td>0</td>\n",
       "      <td>7</td>\n",
       "    </tr>\n",
       "    <tr>\n",
       "      <th>1</th>\n",
       "      <td>5</td>\n",
       "      <td>1</td>\n",
       "      <td>270</td>\n",
       "      <td>3</td>\n",
       "      <td>24</td>\n",
       "      <td>13</td>\n",
       "      <td>0</td>\n",
       "      <td>7</td>\n",
       "    </tr>\n",
       "    <tr>\n",
       "      <th>2</th>\n",
       "      <td>5</td>\n",
       "      <td>1</td>\n",
       "      <td>270</td>\n",
       "      <td>3</td>\n",
       "      <td>24</td>\n",
       "      <td>13</td>\n",
       "      <td>0</td>\n",
       "      <td>7</td>\n",
       "    </tr>\n",
       "    <tr>\n",
       "      <th>3</th>\n",
       "      <td>5</td>\n",
       "      <td>1</td>\n",
       "      <td>270</td>\n",
       "      <td>3</td>\n",
       "      <td>24</td>\n",
       "      <td>13</td>\n",
       "      <td>0</td>\n",
       "      <td>7</td>\n",
       "    </tr>\n",
       "    <tr>\n",
       "      <th>4</th>\n",
       "      <td>5</td>\n",
       "      <td>1</td>\n",
       "      <td>270</td>\n",
       "      <td>3</td>\n",
       "      <td>24</td>\n",
       "      <td>13</td>\n",
       "      <td>0</td>\n",
       "      <td>7</td>\n",
       "    </tr>\n",
       "    <tr>\n",
       "      <th>...</th>\n",
       "      <td>...</td>\n",
       "      <td>...</td>\n",
       "      <td>...</td>\n",
       "      <td>...</td>\n",
       "      <td>...</td>\n",
       "      <td>...</td>\n",
       "      <td>...</td>\n",
       "      <td>...</td>\n",
       "    </tr>\n",
       "    <tr>\n",
       "      <th>505977</th>\n",
       "      <td>1</td>\n",
       "      <td>1</td>\n",
       "      <td>249</td>\n",
       "      <td>7</td>\n",
       "      <td>22</td>\n",
       "      <td>2</td>\n",
       "      <td>1</td>\n",
       "      <td>31</td>\n",
       "    </tr>\n",
       "    <tr>\n",
       "      <th>505978</th>\n",
       "      <td>1</td>\n",
       "      <td>1</td>\n",
       "      <td>249</td>\n",
       "      <td>7</td>\n",
       "      <td>22</td>\n",
       "      <td>2</td>\n",
       "      <td>1</td>\n",
       "      <td>13</td>\n",
       "    </tr>\n",
       "    <tr>\n",
       "      <th>505979</th>\n",
       "      <td>1</td>\n",
       "      <td>1</td>\n",
       "      <td>249</td>\n",
       "      <td>7</td>\n",
       "      <td>22</td>\n",
       "      <td>2</td>\n",
       "      <td>1</td>\n",
       "      <td>12</td>\n",
       "    </tr>\n",
       "    <tr>\n",
       "      <th>505980</th>\n",
       "      <td>1</td>\n",
       "      <td>1</td>\n",
       "      <td>249</td>\n",
       "      <td>7</td>\n",
       "      <td>22</td>\n",
       "      <td>2</td>\n",
       "      <td>1</td>\n",
       "      <td>1</td>\n",
       "    </tr>\n",
       "    <tr>\n",
       "      <th>505981</th>\n",
       "      <td>1</td>\n",
       "      <td>1</td>\n",
       "      <td>249</td>\n",
       "      <td>7</td>\n",
       "      <td>22</td>\n",
       "      <td>2</td>\n",
       "      <td>0</td>\n",
       "      <td>26</td>\n",
       "    </tr>\n",
       "  </tbody>\n",
       "</table>\n",
       "<p>505982 rows × 8 columns</p>\n",
       "</div>"
      ],
      "text/plain": [
       "        SC_Group_Desc  SC_GroupCommod_Desc  SC_GeographyIndented_Desc  \\\n",
       "0                   5                    1                        270   \n",
       "1                   5                    1                        270   \n",
       "2                   5                    1                        270   \n",
       "3                   5                    1                        270   \n",
       "4                   5                    1                        270   \n",
       "...               ...                  ...                        ...   \n",
       "505977              1                    1                        249   \n",
       "505978              1                    1                        249   \n",
       "505979              1                    1                        249   \n",
       "505980              1                    1                        249   \n",
       "505981              1                    1                        249   \n",
       "\n",
       "        SC_Commodity_Desc  SC_Attribute_Desc  SC_Unit_Desc  SC_Frequency_Desc  \\\n",
       "0                       3                 24            13                  0   \n",
       "1                       3                 24            13                  0   \n",
       "2                       3                 24            13                  0   \n",
       "3                       3                 24            13                  0   \n",
       "4                       3                 24            13                  0   \n",
       "...                   ...                ...           ...                ...   \n",
       "505977                  7                 22             2                  1   \n",
       "505978                  7                 22             2                  1   \n",
       "505979                  7                 22             2                  1   \n",
       "505980                  7                 22             2                  1   \n",
       "505981                  7                 22             2                  0   \n",
       "\n",
       "        Timeperiod_Desc  \n",
       "0                     7  \n",
       "1                     7  \n",
       "2                     7  \n",
       "3                     7  \n",
       "4                     7  \n",
       "...                 ...  \n",
       "505977               31  \n",
       "505978               13  \n",
       "505979               12  \n",
       "505980                1  \n",
       "505981               26  \n",
       "\n",
       "[505982 rows x 8 columns]"
      ]
     },
     "execution_count": 22,
     "metadata": {},
     "output_type": "execute_result"
    }
   ],
   "source": [
    "df_cat"
   ]
  },
  {
   "cell_type": "markdown",
   "id": "6d1776cb",
   "metadata": {},
   "source": [
    "# Concatenate Numerical Values and Categorical Values"
   ]
  },
  {
   "cell_type": "code",
   "execution_count": 23,
   "id": "5f5ba176",
   "metadata": {},
   "outputs": [],
   "source": [
    "df_cat=df_cat.loc[df_a.index.values,:]\n",
    "d1=pd.DataFrame(df_scaler,columns=df_a.columns)\n",
    "d1.reset_index(inplace=True)\n",
    "df_cat.reset_index(inplace=True)\n",
    "df_final=pd.concat([d1,df_cat],axis=1)"
   ]
  },
  {
   "cell_type": "markdown",
   "id": "63fd04fb",
   "metadata": {},
   "source": [
    "# Final DataSet"
   ]
  },
  {
   "cell_type": "code",
   "execution_count": 24,
   "id": "3c349b0c",
   "metadata": {},
   "outputs": [
    {
     "data": {
      "text/html": [
       "<div>\n",
       "<style scoped>\n",
       "    .dataframe tbody tr th:only-of-type {\n",
       "        vertical-align: middle;\n",
       "    }\n",
       "\n",
       "    .dataframe tbody tr th {\n",
       "        vertical-align: top;\n",
       "    }\n",
       "\n",
       "    .dataframe thead th {\n",
       "        text-align: right;\n",
       "    }\n",
       "</style>\n",
       "<table border=\"1\" class=\"dataframe\">\n",
       "  <thead>\n",
       "    <tr style=\"text-align: right;\">\n",
       "      <th></th>\n",
       "      <th>index</th>\n",
       "      <th>SC_Group_ID</th>\n",
       "      <th>SC_GroupCommod_ID</th>\n",
       "      <th>SC_Geography_ID</th>\n",
       "      <th>SortOrder</th>\n",
       "      <th>SC_Commodity_ID</th>\n",
       "      <th>SC_Attribute_ID</th>\n",
       "      <th>SC_Unit_ID</th>\n",
       "      <th>Year_ID</th>\n",
       "      <th>SC_Frequency_ID</th>\n",
       "      <th>...</th>\n",
       "      <th>Amount</th>\n",
       "      <th>index</th>\n",
       "      <th>SC_Group_Desc</th>\n",
       "      <th>SC_GroupCommod_Desc</th>\n",
       "      <th>SC_GeographyIndented_Desc</th>\n",
       "      <th>SC_Commodity_Desc</th>\n",
       "      <th>SC_Attribute_Desc</th>\n",
       "      <th>SC_Unit_Desc</th>\n",
       "      <th>SC_Frequency_Desc</th>\n",
       "      <th>Timeperiod_Desc</th>\n",
       "    </tr>\n",
       "  </thead>\n",
       "  <tbody>\n",
       "    <tr>\n",
       "      <th>0</th>\n",
       "      <td>0</td>\n",
       "      <td>0.166667</td>\n",
       "      <td>0.083333</td>\n",
       "      <td>0.000000</td>\n",
       "      <td>0.002737</td>\n",
       "      <td>0.00000</td>\n",
       "      <td>0.000000</td>\n",
       "      <td>0.022222</td>\n",
       "      <td>0.382166</td>\n",
       "      <td>1.0</td>\n",
       "      <td>...</td>\n",
       "      <td>0.246770</td>\n",
       "      <td>0</td>\n",
       "      <td>5</td>\n",
       "      <td>1</td>\n",
       "      <td>270</td>\n",
       "      <td>3</td>\n",
       "      <td>24</td>\n",
       "      <td>13</td>\n",
       "      <td>0</td>\n",
       "      <td>7</td>\n",
       "    </tr>\n",
       "    <tr>\n",
       "      <th>1</th>\n",
       "      <td>1</td>\n",
       "      <td>0.166667</td>\n",
       "      <td>0.083333</td>\n",
       "      <td>0.000000</td>\n",
       "      <td>0.002737</td>\n",
       "      <td>0.00000</td>\n",
       "      <td>0.000000</td>\n",
       "      <td>0.022222</td>\n",
       "      <td>0.388535</td>\n",
       "      <td>1.0</td>\n",
       "      <td>...</td>\n",
       "      <td>0.267037</td>\n",
       "      <td>1</td>\n",
       "      <td>5</td>\n",
       "      <td>1</td>\n",
       "      <td>270</td>\n",
       "      <td>3</td>\n",
       "      <td>24</td>\n",
       "      <td>13</td>\n",
       "      <td>0</td>\n",
       "      <td>7</td>\n",
       "    </tr>\n",
       "    <tr>\n",
       "      <th>2</th>\n",
       "      <td>2</td>\n",
       "      <td>0.166667</td>\n",
       "      <td>0.083333</td>\n",
       "      <td>0.000000</td>\n",
       "      <td>0.002737</td>\n",
       "      <td>0.00000</td>\n",
       "      <td>0.000000</td>\n",
       "      <td>0.022222</td>\n",
       "      <td>0.394904</td>\n",
       "      <td>1.0</td>\n",
       "      <td>...</td>\n",
       "      <td>0.360742</td>\n",
       "      <td>2</td>\n",
       "      <td>5</td>\n",
       "      <td>1</td>\n",
       "      <td>270</td>\n",
       "      <td>3</td>\n",
       "      <td>24</td>\n",
       "      <td>13</td>\n",
       "      <td>0</td>\n",
       "      <td>7</td>\n",
       "    </tr>\n",
       "    <tr>\n",
       "      <th>3</th>\n",
       "      <td>3</td>\n",
       "      <td>0.166667</td>\n",
       "      <td>0.083333</td>\n",
       "      <td>0.000000</td>\n",
       "      <td>0.002737</td>\n",
       "      <td>0.00000</td>\n",
       "      <td>0.000000</td>\n",
       "      <td>0.022222</td>\n",
       "      <td>0.401274</td>\n",
       "      <td>1.0</td>\n",
       "      <td>...</td>\n",
       "      <td>0.413742</td>\n",
       "      <td>3</td>\n",
       "      <td>5</td>\n",
       "      <td>1</td>\n",
       "      <td>270</td>\n",
       "      <td>3</td>\n",
       "      <td>24</td>\n",
       "      <td>13</td>\n",
       "      <td>0</td>\n",
       "      <td>7</td>\n",
       "    </tr>\n",
       "    <tr>\n",
       "      <th>4</th>\n",
       "      <td>4</td>\n",
       "      <td>0.166667</td>\n",
       "      <td>0.083333</td>\n",
       "      <td>0.000000</td>\n",
       "      <td>0.002737</td>\n",
       "      <td>0.00000</td>\n",
       "      <td>0.000000</td>\n",
       "      <td>0.022222</td>\n",
       "      <td>0.407643</td>\n",
       "      <td>1.0</td>\n",
       "      <td>...</td>\n",
       "      <td>0.382027</td>\n",
       "      <td>4</td>\n",
       "      <td>5</td>\n",
       "      <td>1</td>\n",
       "      <td>270</td>\n",
       "      <td>3</td>\n",
       "      <td>24</td>\n",
       "      <td>13</td>\n",
       "      <td>0</td>\n",
       "      <td>7</td>\n",
       "    </tr>\n",
       "    <tr>\n",
       "      <th>...</th>\n",
       "      <td>...</td>\n",
       "      <td>...</td>\n",
       "      <td>...</td>\n",
       "      <td>...</td>\n",
       "      <td>...</td>\n",
       "      <td>...</td>\n",
       "      <td>...</td>\n",
       "      <td>...</td>\n",
       "      <td>...</td>\n",
       "      <td>...</td>\n",
       "      <td>...</td>\n",
       "      <td>...</td>\n",
       "      <td>...</td>\n",
       "      <td>...</td>\n",
       "      <td>...</td>\n",
       "      <td>...</td>\n",
       "      <td>...</td>\n",
       "      <td>...</td>\n",
       "      <td>...</td>\n",
       "      <td>...</td>\n",
       "      <td>...</td>\n",
       "    </tr>\n",
       "    <tr>\n",
       "      <th>253054</th>\n",
       "      <td>253054</td>\n",
       "      <td>0.333333</td>\n",
       "      <td>0.166667</td>\n",
       "      <td>0.882006</td>\n",
       "      <td>0.003509</td>\n",
       "      <td>0.35545</td>\n",
       "      <td>0.383333</td>\n",
       "      <td>0.133333</td>\n",
       "      <td>1.000000</td>\n",
       "      <td>0.0</td>\n",
       "      <td>...</td>\n",
       "      <td>0.730388</td>\n",
       "      <td>505885</td>\n",
       "      <td>1</td>\n",
       "      <td>2</td>\n",
       "      <td>249</td>\n",
       "      <td>11</td>\n",
       "      <td>7</td>\n",
       "      <td>2</td>\n",
       "      <td>1</td>\n",
       "      <td>12</td>\n",
       "    </tr>\n",
       "    <tr>\n",
       "      <th>253055</th>\n",
       "      <td>253055</td>\n",
       "      <td>0.333333</td>\n",
       "      <td>0.166667</td>\n",
       "      <td>0.882006</td>\n",
       "      <td>0.003509</td>\n",
       "      <td>0.35545</td>\n",
       "      <td>0.383333</td>\n",
       "      <td>0.133333</td>\n",
       "      <td>1.000000</td>\n",
       "      <td>0.0</td>\n",
       "      <td>...</td>\n",
       "      <td>0.552109</td>\n",
       "      <td>505886</td>\n",
       "      <td>1</td>\n",
       "      <td>2</td>\n",
       "      <td>249</td>\n",
       "      <td>11</td>\n",
       "      <td>7</td>\n",
       "      <td>2</td>\n",
       "      <td>1</td>\n",
       "      <td>1</td>\n",
       "    </tr>\n",
       "    <tr>\n",
       "      <th>253056</th>\n",
       "      <td>253056</td>\n",
       "      <td>0.333333</td>\n",
       "      <td>0.166667</td>\n",
       "      <td>0.882006</td>\n",
       "      <td>0.003509</td>\n",
       "      <td>0.35545</td>\n",
       "      <td>0.383333</td>\n",
       "      <td>0.133333</td>\n",
       "      <td>1.000000</td>\n",
       "      <td>0.0</td>\n",
       "      <td>...</td>\n",
       "      <td>0.589986</td>\n",
       "      <td>505887</td>\n",
       "      <td>1</td>\n",
       "      <td>2</td>\n",
       "      <td>249</td>\n",
       "      <td>11</td>\n",
       "      <td>7</td>\n",
       "      <td>2</td>\n",
       "      <td>1</td>\n",
       "      <td>47</td>\n",
       "    </tr>\n",
       "    <tr>\n",
       "      <th>253057</th>\n",
       "      <td>253057</td>\n",
       "      <td>0.333333</td>\n",
       "      <td>0.083333</td>\n",
       "      <td>0.882006</td>\n",
       "      <td>0.003509</td>\n",
       "      <td>0.36019</td>\n",
       "      <td>0.300000</td>\n",
       "      <td>0.133333</td>\n",
       "      <td>0.783439</td>\n",
       "      <td>1.0</td>\n",
       "      <td>...</td>\n",
       "      <td>0.000353</td>\n",
       "      <td>505899</td>\n",
       "      <td>1</td>\n",
       "      <td>1</td>\n",
       "      <td>249</td>\n",
       "      <td>7</td>\n",
       "      <td>22</td>\n",
       "      <td>2</td>\n",
       "      <td>0</td>\n",
       "      <td>26</td>\n",
       "    </tr>\n",
       "    <tr>\n",
       "      <th>253058</th>\n",
       "      <td>253058</td>\n",
       "      <td>0.333333</td>\n",
       "      <td>0.083333</td>\n",
       "      <td>0.882006</td>\n",
       "      <td>0.003509</td>\n",
       "      <td>0.36019</td>\n",
       "      <td>0.300000</td>\n",
       "      <td>0.133333</td>\n",
       "      <td>1.000000</td>\n",
       "      <td>1.0</td>\n",
       "      <td>...</td>\n",
       "      <td>0.000640</td>\n",
       "      <td>505981</td>\n",
       "      <td>1</td>\n",
       "      <td>1</td>\n",
       "      <td>249</td>\n",
       "      <td>7</td>\n",
       "      <td>22</td>\n",
       "      <td>2</td>\n",
       "      <td>0</td>\n",
       "      <td>26</td>\n",
       "    </tr>\n",
       "  </tbody>\n",
       "</table>\n",
       "<p>253059 rows × 21 columns</p>\n",
       "</div>"
      ],
      "text/plain": [
       "         index  SC_Group_ID  SC_GroupCommod_ID  SC_Geography_ID  SortOrder  \\\n",
       "0            0     0.166667           0.083333         0.000000   0.002737   \n",
       "1            1     0.166667           0.083333         0.000000   0.002737   \n",
       "2            2     0.166667           0.083333         0.000000   0.002737   \n",
       "3            3     0.166667           0.083333         0.000000   0.002737   \n",
       "4            4     0.166667           0.083333         0.000000   0.002737   \n",
       "...        ...          ...                ...              ...        ...   \n",
       "253054  253054     0.333333           0.166667         0.882006   0.003509   \n",
       "253055  253055     0.333333           0.166667         0.882006   0.003509   \n",
       "253056  253056     0.333333           0.166667         0.882006   0.003509   \n",
       "253057  253057     0.333333           0.083333         0.882006   0.003509   \n",
       "253058  253058     0.333333           0.083333         0.882006   0.003509   \n",
       "\n",
       "        SC_Commodity_ID  SC_Attribute_ID  SC_Unit_ID   Year_ID  \\\n",
       "0               0.00000         0.000000    0.022222  0.382166   \n",
       "1               0.00000         0.000000    0.022222  0.388535   \n",
       "2               0.00000         0.000000    0.022222  0.394904   \n",
       "3               0.00000         0.000000    0.022222  0.401274   \n",
       "4               0.00000         0.000000    0.022222  0.407643   \n",
       "...                 ...              ...         ...       ...   \n",
       "253054          0.35545         0.383333    0.133333  1.000000   \n",
       "253055          0.35545         0.383333    0.133333  1.000000   \n",
       "253056          0.35545         0.383333    0.133333  1.000000   \n",
       "253057          0.36019         0.300000    0.133333  0.783439   \n",
       "253058          0.36019         0.300000    0.133333  1.000000   \n",
       "\n",
       "        SC_Frequency_ID  ...    Amount   index  SC_Group_Desc  \\\n",
       "0                   1.0  ...  0.246770       0              5   \n",
       "1                   1.0  ...  0.267037       1              5   \n",
       "2                   1.0  ...  0.360742       2              5   \n",
       "3                   1.0  ...  0.413742       3              5   \n",
       "4                   1.0  ...  0.382027       4              5   \n",
       "...                 ...  ...       ...     ...            ...   \n",
       "253054              0.0  ...  0.730388  505885              1   \n",
       "253055              0.0  ...  0.552109  505886              1   \n",
       "253056              0.0  ...  0.589986  505887              1   \n",
       "253057              1.0  ...  0.000353  505899              1   \n",
       "253058              1.0  ...  0.000640  505981              1   \n",
       "\n",
       "        SC_GroupCommod_Desc  SC_GeographyIndented_Desc  SC_Commodity_Desc  \\\n",
       "0                         1                        270                  3   \n",
       "1                         1                        270                  3   \n",
       "2                         1                        270                  3   \n",
       "3                         1                        270                  3   \n",
       "4                         1                        270                  3   \n",
       "...                     ...                        ...                ...   \n",
       "253054                    2                        249                 11   \n",
       "253055                    2                        249                 11   \n",
       "253056                    2                        249                 11   \n",
       "253057                    1                        249                  7   \n",
       "253058                    1                        249                  7   \n",
       "\n",
       "        SC_Attribute_Desc  SC_Unit_Desc  SC_Frequency_Desc  Timeperiod_Desc  \n",
       "0                      24            13                  0                7  \n",
       "1                      24            13                  0                7  \n",
       "2                      24            13                  0                7  \n",
       "3                      24            13                  0                7  \n",
       "4                      24            13                  0                7  \n",
       "...                   ...           ...                ...              ...  \n",
       "253054                  7             2                  1               12  \n",
       "253055                  7             2                  1                1  \n",
       "253056                  7             2                  1               47  \n",
       "253057                 22             2                  0               26  \n",
       "253058                 22             2                  0               26  \n",
       "\n",
       "[253059 rows x 21 columns]"
      ]
     },
     "execution_count": 24,
     "metadata": {},
     "output_type": "execute_result"
    }
   ],
   "source": [
    "df_final"
   ]
  },
  {
   "cell_type": "markdown",
   "id": "3c2dc156",
   "metadata": {},
   "source": [
    "# Spliting the Dependent and Independent variables"
   ]
  },
  {
   "cell_type": "code",
   "execution_count": 25,
   "id": "51af0a7c",
   "metadata": {},
   "outputs": [],
   "source": [
    "x = df_final.drop('Amount',axis = 1)\n",
    "y = df_final[['Amount']]"
   ]
  },
  {
   "cell_type": "markdown",
   "id": "a803fd56",
   "metadata": {},
   "source": [
    "# Spliting the Data for Training(70%) and Testing(30%)"
   ]
  },
  {
   "cell_type": "code",
   "execution_count": 26,
   "id": "2d82f70c",
   "metadata": {},
   "outputs": [],
   "source": [
    "from sklearn.model_selection import train_test_split\n",
    "x_train,x_test,y_train,y_test = train_test_split(x,y,test_size = 0.3,random_state = 50)"
   ]
  },
  {
   "cell_type": "markdown",
   "id": "a713d97e",
   "metadata": {},
   "source": [
    "# LinearRegression Training Score"
   ]
  },
  {
   "cell_type": "code",
   "execution_count": 27,
   "id": "7322e75d",
   "metadata": {},
   "outputs": [
    {
     "data": {
      "text/plain": [
       "0.10615243444077316"
      ]
     },
     "execution_count": 27,
     "metadata": {},
     "output_type": "execute_result"
    }
   ],
   "source": [
    "from sklearn.linear_model import LinearRegression\n",
    "regressor = LinearRegression()\n",
    "lin = regressor.fit(x_train, y_train)\n",
    "lin.score(x_train,y_train)"
   ]
  },
  {
   "cell_type": "markdown",
   "id": "30dfbe26",
   "metadata": {},
   "source": [
    "# DecisionTreeRegressor Training Score¶"
   ]
  },
  {
   "cell_type": "code",
   "execution_count": 28,
   "id": "8e06bb98",
   "metadata": {},
   "outputs": [
    {
     "data": {
      "text/plain": [
       "1.0"
      ]
     },
     "execution_count": 28,
     "metadata": {},
     "output_type": "execute_result"
    }
   ],
   "source": [
    "from sklearn.tree import DecisionTreeRegressor\n",
    "regressor=DecisionTreeRegressor()\n",
    "dec =regressor.fit(x_train,y_train)\n",
    "dec.score(x_train,y_train)"
   ]
  },
  {
   "cell_type": "markdown",
   "id": "f01f0a57",
   "metadata": {},
   "source": [
    "# RandomForestRegressor Training Score"
   ]
  },
  {
   "cell_type": "code",
   "execution_count": 29,
   "id": "8f294604",
   "metadata": {},
   "outputs": [
    {
     "data": {
      "text/plain": [
       "0.8628592574259073"
      ]
     },
     "execution_count": 29,
     "metadata": {},
     "output_type": "execute_result"
    }
   ],
   "source": [
    "from sklearn.ensemble import RandomForestRegressor\n",
    "regressor = RandomForestRegressor(n_estimators = 50, max_depth = 19)\n",
    "ran = regressor.fit(x_train, y_train)\n",
    "ran.score(x_train,y_train)"
   ]
  },
  {
   "cell_type": "markdown",
   "id": "5073911e",
   "metadata": {},
   "source": [
    "# Model Validation"
   ]
  },
  {
   "cell_type": "code",
   "execution_count": 30,
   "id": "80d6faf1",
   "metadata": {},
   "outputs": [],
   "source": [
    "from sklearn.metrics import accuracy_score, r2_score"
   ]
  },
  {
   "cell_type": "code",
   "execution_count": 31,
   "id": "ca90df43",
   "metadata": {},
   "outputs": [],
   "source": [
    "lr_y_pred = lin.predict(x_test)\n",
    "dt_y_pred = dec.predict(x_test)\n",
    "rf_y_pred = ran.predict(x_test)"
   ]
  },
  {
   "cell_type": "markdown",
   "id": "218d7d98",
   "metadata": {},
   "source": [
    "# LinearRegression Testing Score"
   ]
  },
  {
   "cell_type": "code",
   "execution_count": 32,
   "id": "ef3d7c53",
   "metadata": {},
   "outputs": [
    {
     "data": {
      "text/plain": [
       "0.10886223583664711"
      ]
     },
     "execution_count": 32,
     "metadata": {},
     "output_type": "execute_result"
    }
   ],
   "source": [
    "r2_score(y_test,lr_y_pred)"
   ]
  },
  {
   "cell_type": "markdown",
   "id": "76ad8d85",
   "metadata": {},
   "source": [
    "# DecisionTreeRegressor Testing Score"
   ]
  },
  {
   "cell_type": "code",
   "execution_count": 33,
   "id": "76d11b67",
   "metadata": {},
   "outputs": [
    {
     "data": {
      "text/plain": [
       "0.5766795859092092"
      ]
     },
     "execution_count": 33,
     "metadata": {},
     "output_type": "execute_result"
    }
   ],
   "source": [
    "r2_score(y_test,dt_y_pred)"
   ]
  },
  {
   "cell_type": "markdown",
   "id": "c0c7574f",
   "metadata": {},
   "source": [
    "# RandomForestRegressor Testing Score"
   ]
  },
  {
   "cell_type": "code",
   "execution_count": 34,
   "id": "d38e55d7",
   "metadata": {},
   "outputs": [
    {
     "data": {
      "text/plain": [
       "0.7284661612769172"
      ]
     },
     "execution_count": 34,
     "metadata": {},
     "output_type": "execute_result"
    }
   ],
   "source": [
    "r2_score(y_test,rf_y_pred)"
   ]
  },
  {
   "cell_type": "code",
   "execution_count": null,
   "id": "16589374",
   "metadata": {},
   "outputs": [],
   "source": []
  }
 ],
 "metadata": {
  "kernelspec": {
   "display_name": "Python 3 (ipykernel)",
   "language": "python",
   "name": "python3"
  },
  "language_info": {
   "codemirror_mode": {
    "name": "ipython",
    "version": 3
   },
   "file_extension": ".py",
   "mimetype": "text/x-python",
   "name": "python",
   "nbconvert_exporter": "python",
   "pygments_lexer": "ipython3",
   "version": "3.11.5"
  }
 },
 "nbformat": 4,
 "nbformat_minor": 5
}
